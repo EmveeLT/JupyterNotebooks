{
 "cells": [
  {
   "cell_type": "code",
   "execution_count": 44,
   "metadata": {},
   "outputs": [],
   "source": [
    "import numpy as np\n",
    "import pandas as pd \n",
    "import matplotlib.pyplot as plt \n",
    "import warnings\n",
    "warnings.filterwarnings(\"ignore\")\n",
    "import seaborn as sns\n"
   ]
  },
  {
   "cell_type": "code",
   "execution_count": 3,
   "metadata": {},
   "outputs": [],
   "source": [
    "df = pd.DataFrame()\n",
    "df['a'] = np.random.randint(10,50,10)      #pridejom stulpeli ,a yra stulpelio pavadinimas\n",
    "df.to_csv('demoDF.csv', sep=';')     #sukurta lentele eksportuojam i csv faila ir atskiriam per ;"
   ]
  },
  {
   "cell_type": "code",
   "execution_count": null,
   "metadata": {},
   "outputs": [],
   "source": [
    "#Surinkite visus kauno dienos straipsnių pavadinimus į pandas dataframe.\n",
    "#pridėkite naują stulpelį, kuriame būtų žodžių kiekis kiekviename pavadinime\n",
    "#pridėkite naują stulpelį, kuriame būtų pavadinime esančių simbolių kiekis\n",
    "#eksportuokite tai į CSV failą\n",
    "#eksportuotą CSV failą nuskaitykite su pandas\n",
    "#Koks vidutinis žodžių kiekis pavadinimuose? \n",
    "#Advanced: suraskite dažniausiai pasikartojantį žodį pavadinimuose.\n",
    "#Po kiek pavadinimų turėjo vienodą žodžių kiekį? Atsakymui pateikite vizualizaciją (grafiką)\n",
    "\n"
   ]
  },
  {
   "cell_type": "code",
   "execution_count": 41,
   "metadata": {},
   "outputs": [
    {
     "data": {
      "text/html": [
       "<div>\n",
       "<style scoped>\n",
       "    .dataframe tbody tr th:only-of-type {\n",
       "        vertical-align: middle;\n",
       "    }\n",
       "\n",
       "    .dataframe tbody tr th {\n",
       "        vertical-align: top;\n",
       "    }\n",
       "\n",
       "    .dataframe thead th {\n",
       "        text-align: right;\n",
       "    }\n",
       "</style>\n",
       "<table border=\"1\" class=\"dataframe\">\n",
       "  <thead>\n",
       "    <tr style=\"text-align: right;\">\n",
       "      <th></th>\n",
       "      <th>Unnamed: 0</th>\n",
       "      <th>Pavadinimas</th>\n",
       "      <th>žodžių_kiekis</th>\n",
       "    </tr>\n",
       "  </thead>\n",
       "  <tbody>\n",
       "    <tr>\n",
       "      <th>0</th>\n",
       "      <td>0</td>\n",
       "      <td>Landynė daugiabutyje: ar gali būti blogiau?</td>\n",
       "      <td>6</td>\n",
       "    </tr>\n",
       "    <tr>\n",
       "      <th>1</th>\n",
       "      <td>1</td>\n",
       "      <td>Smarkios avarijos Ramučiuose liudininkai: kalt...</td>\n",
       "      <td>8</td>\n",
       "    </tr>\n",
       "    <tr>\n",
       "      <th>2</th>\n",
       "      <td>2</td>\n",
       "      <td>Už šūkį „šlovė Ukrainai“ – išpuoliai prieš lie...</td>\n",
       "      <td>10</td>\n",
       "    </tr>\n",
       "    <tr>\n",
       "      <th>3</th>\n",
       "      <td>3</td>\n",
       "      <td>Kauno centre – girto vairuotojo šou: nukentėjo...</td>\n",
       "      <td>8</td>\n",
       "    </tr>\n",
       "    <tr>\n",
       "      <th>4</th>\n",
       "      <td>4</td>\n",
       "      <td>„Vičiūnų grupė“ pardavė gamyklą Kaliningrade</td>\n",
       "      <td>5</td>\n",
       "    </tr>\n",
       "  </tbody>\n",
       "</table>\n",
       "</div>"
      ],
      "text/plain": [
       "   Unnamed: 0                                        Pavadinimas  \\\n",
       "0           0        Landynė daugiabutyje: ar gali būti blogiau?   \n",
       "1           1  Smarkios avarijos Ramučiuose liudininkai: kalt...   \n",
       "2           2  Už šūkį „šlovė Ukrainai“ – išpuoliai prieš lie...   \n",
       "3           3  Kauno centre – girto vairuotojo šou: nukentėjo...   \n",
       "4           4     „Vičiūnų grupė“ pardavė gamyklą Kaliningrade     \n",
       "\n",
       "   žodžių_kiekis  \n",
       "0              6  \n",
       "1              8  \n",
       "2             10  \n",
       "3              8  \n",
       "4              5  "
      ]
     },
     "execution_count": 41,
     "metadata": {},
     "output_type": "execute_result"
    }
   ],
   "source": [
    "KaunoDiena = pd.read_csv('20240419 darbai.csv' , sep=';')   \n",
    "KaunoDiena.head()\n"
   ]
  },
  {
   "cell_type": "code",
   "execution_count": 42,
   "metadata": {},
   "outputs": [
    {
     "data": {
      "text/plain": [
       "9.170731707317072"
      ]
     },
     "execution_count": 42,
     "metadata": {},
     "output_type": "execute_result"
    }
   ],
   "source": [
    "#Koks vidutinis žodžių kiekis pavadinimuose? \n",
    "zodziu_vidurkisPavadinime = KaunoDiena[\"žodžių_kiekis\"].mean()\n",
    "zodziu_vidurkisPavadinime"
   ]
  },
  {
   "cell_type": "code",
   "execution_count": 50,
   "metadata": {},
   "outputs": [
    {
     "data": {
      "text/html": [
       "<div>\n",
       "<style scoped>\n",
       "    .dataframe tbody tr th:only-of-type {\n",
       "        vertical-align: middle;\n",
       "    }\n",
       "\n",
       "    .dataframe tbody tr th {\n",
       "        vertical-align: top;\n",
       "    }\n",
       "\n",
       "    .dataframe thead th {\n",
       "        text-align: right;\n",
       "    }\n",
       "</style>\n",
       "<table border=\"1\" class=\"dataframe\">\n",
       "  <thead>\n",
       "    <tr style=\"text-align: right;\">\n",
       "      <th></th>\n",
       "      <th>Unnamed: 0</th>\n",
       "      <th>Pavadinimas</th>\n",
       "      <th>žodžių_kiekis</th>\n",
       "      <th>simboliuKiekis</th>\n",
       "    </tr>\n",
       "  </thead>\n",
       "  <tbody>\n",
       "    <tr>\n",
       "      <th>0</th>\n",
       "      <td>0</td>\n",
       "      <td>Landynė daugiabutyje: ar gali būti blogiau?</td>\n",
       "      <td>6</td>\n",
       "      <td>6</td>\n",
       "    </tr>\n",
       "    <tr>\n",
       "      <th>1</th>\n",
       "      <td>1</td>\n",
       "      <td>Smarkios avarijos Ramučiuose liudininkai: kalt...</td>\n",
       "      <td>8</td>\n",
       "      <td>8</td>\n",
       "    </tr>\n",
       "    <tr>\n",
       "      <th>2</th>\n",
       "      <td>2</td>\n",
       "      <td>Už šūkį „šlovė Ukrainai“ – išpuoliai prieš lie...</td>\n",
       "      <td>10</td>\n",
       "      <td>10</td>\n",
       "    </tr>\n",
       "    <tr>\n",
       "      <th>3</th>\n",
       "      <td>3</td>\n",
       "      <td>Kauno centre – girto vairuotojo šou: nukentėjo...</td>\n",
       "      <td>8</td>\n",
       "      <td>8</td>\n",
       "    </tr>\n",
       "    <tr>\n",
       "      <th>4</th>\n",
       "      <td>4</td>\n",
       "      <td>„Vičiūnų grupė“ pardavė gamyklą Kaliningrade</td>\n",
       "      <td>5</td>\n",
       "      <td>5</td>\n",
       "    </tr>\n",
       "  </tbody>\n",
       "</table>\n",
       "</div>"
      ],
      "text/plain": [
       "   Unnamed: 0                                        Pavadinimas  \\\n",
       "0           0        Landynė daugiabutyje: ar gali būti blogiau?   \n",
       "1           1  Smarkios avarijos Ramučiuose liudininkai: kalt...   \n",
       "2           2  Už šūkį „šlovė Ukrainai“ – išpuoliai prieš lie...   \n",
       "3           3  Kauno centre – girto vairuotojo šou: nukentėjo...   \n",
       "4           4     „Vičiūnų grupė“ pardavė gamyklą Kaliningrade     \n",
       "\n",
       "   žodžių_kiekis  simboliuKiekis  \n",
       "0              6               6  \n",
       "1              8               8  \n",
       "2             10              10  \n",
       "3              8               8  \n",
       "4              5               5  "
      ]
     },
     "execution_count": 50,
     "metadata": {},
     "output_type": "execute_result"
    }
   ],
   "source": [
    "KaunoDiena[\"simboliuKiekis\"] = KaunoDiena[\"Pavadinimas\"].str.split().str.len()\n",
    "KaunoDiena.head()"
   ]
  },
  {
   "cell_type": "code",
   "execution_count": 49,
   "metadata": {},
   "outputs": [
    {
     "ename": "TypeError",
     "evalue": "'method' object is not subscriptable",
     "output_type": "error",
     "traceback": [
      "\u001b[1;31m---------------------------------------------------------------------------\u001b[0m",
      "\u001b[1;31mTypeError\u001b[0m                                 Traceback (most recent call last)",
      "Cell \u001b[1;32mIn[49], line 2\u001b[0m\n\u001b[0;32m      1\u001b[0m \u001b[38;5;66;03m#Po kiek pavadinimų turėjo vienodą žodžių kiekį? Atsakymui pateikite vizualizaciją (grafiką)\u001b[39;00m\n\u001b[1;32m----> 2\u001b[0m ZK \u001b[38;5;241m=\u001b[39m \u001b[43mKaunoDiena\u001b[49m\u001b[38;5;241;43m.\u001b[39;49m\u001b[43mgroupby\u001b[49m\u001b[43m[\u001b[49m\u001b[38;5;124;43m\"\u001b[39;49m\u001b[38;5;124;43mžodžių_kiekis\u001b[39;49m\u001b[38;5;124;43m\"\u001b[39;49m\u001b[43m]\u001b[49m\u001b[38;5;241m.\u001b[39mcount()\u001b[38;5;241m.\u001b[39mreset_index()[[\u001b[38;5;124m\"\u001b[39m\u001b[38;5;124mžodžių_kiekis\u001b[39m\u001b[38;5;124m\"\u001b[39m , \u001b[38;5;124m\"\u001b[39m\u001b[38;5;124mPavadinimas\u001b[39m\u001b[38;5;124m\"\u001b[39m]]\n\u001b[0;32m      3\u001b[0m sns\u001b[38;5;241m.\u001b[39mbarplot(data \u001b[38;5;241m=\u001b[39m ZK, x\u001b[38;5;241m=\u001b[39m\u001b[38;5;124m\"\u001b[39m\u001b[38;5;124mžodžių_kiekis\u001b[39m\u001b[38;5;124m\"\u001b[39m , y\u001b[38;5;241m=\u001b[39m \u001b[38;5;124m\"\u001b[39m\u001b[38;5;124mPavadinimas\u001b[39m\u001b[38;5;124m\"\u001b[39m)\n",
      "\u001b[1;31mTypeError\u001b[0m: 'method' object is not subscriptable"
     ]
    }
   ],
   "source": [
    "sarasas = pd.read_csv('20240419_darbai.csv', sep=';')\n",
    "sarasas.head()\n",
    "sarasas['zodziuKiekis'] = sarasas['Pavadinimas'].str.split().str.len()\n",
    "sarasas.head()\n",
    "sarasas['simboliuKiekis'] = sarasas['Pavadinimas'].str.len()\n",
    "sarasas.head()\n",
    "vidZod = sarasas['zodziuKiekis'].mean()\n",
    "print(vidZod)\n",
    "ZK = sarasas.groupby('zodziuKiekis').count().reset_index()[['zodziuKiekis','Pavadinimas']]\n",
    "sns.barplot(data=ZK, x='zodziuKiekis', y='Pavadinimas')\n",
    "\n",
    "#Po kiek pavadinimų turėjo vienodą žodžių kiekį? Atsakymui pateikite vizualizaciją (grafiką)\n",
    "ZK = KaunoDiena.groupby[\"žodžių_kiekis\"].count().reset_index()[[\"žodžių_kiekis\" , \"Pavadinimas\"]]\n",
    "sns.barplot(data = ZK, x=\"žodžių_kiekis\" , y= \"Pavadinimas\")"
   ]
  },
  {
   "cell_type": "code",
   "execution_count": 55,
   "metadata": {},
   "outputs": [
    {
     "name": "stdout",
     "output_type": "stream",
     "text": [
      "[['Landynė', 'daugiabutyje:', 'ar', 'gali', 'būti', 'blogiau?'], ['Smarkios', 'avarijos', 'Ramučiuose', 'liudininkai:', 'kalti', 'neveikiantys', 'šviesoforai!', '(papildyta)'], ['Už', 'šūkį', '„šlovė', 'Ukrainai“', '–', 'išpuoliai', 'prieš', 'lietuvius', 'užsienio', 'kurortuose'], ['Kauno', 'centre', '–', 'girto', 'vairuotojo', 'šou:', 'nukentėjo', 'keleivis'], ['„Vičiūnų', 'grupė“', 'pardavė', 'gamyklą', 'Kaliningrade'], ['Orai:', 'kai', 'kur', 'Lietuvoje', 'iš', 'dangaus', 'krito', 'snaigės'], ['Mugė', 'Laisvės', 'alėjoje', '–', 'dar', 'gausesnė'], ['Lietingą', 'rytą', 'Kaune', 'lydėjo', 'avarijos'], ['Žada,', 'kad', 'iki', '2050-ųjų', 'žuvusiųjų', 'avarijose', 'nebebus:', 'kliedesiai', 'ar', 'realybė?'], ['„Vičiūnų', 'grupė“', 'pardavė', 'gamyklą', 'Kaliningrade'], ['Landynė', 'daugiabutyje:', 'ar', 'gali', 'būti', 'blogiau?'], ['Mugė', 'Laisvės', 'alėjoje', '–', 'dar', 'gausesnė'], ['JAV', 'žiniasklaida:', 'Izraelis', 'smogė', 'Iranui'], ['Sužydėjusios', 'Kauno', 'puošmenos', 'džiugins', 'iki', 'pat', 'rudens'], ['Ilgapirščių', 'taikinys', '–', '25', 'tūkst.', 'eurų', 'vertės', 'kauniečių', '„Mercedes-Benz“'], ['Nacionalinis', 'kultūros', 'forumas', 'mėgins', 'sujungti,', 'kas', 'sunkiai', 'sujungiama,', '–', 'kultūrą', 'ir', 'verslumą'], ['Elektromobilių', 'vairuotojus', 'Kaune', 'pasitinka', 'pokyčiai:', 'atsiskaitymas', 'už', 'įkrovimą', '–', 'mobiliąja', 'programėle'], ['45-asis', '„Lietuvos', 'teatrų', 'pavasaris“', 'kviečia', 'Kauno', 'publiką', 'į', 'teatrališką', 'savaitę'], ['Išskirtinėje', 'vietoje', '–', 'prestižiniai', '„Kauno', 'panoramos“', 'apartamentai'], ['Kaune', 'tiriant', 'galimai', 'apgaule', 'įgytas', 'ES', 'lėšas', '–', 'įtarimai', 'devyniems', 'asmenims,', 'du', 'suimti'], ['R.', 'Jatkevičiūtės-Kasparavičienės', 'sielos', 'peizažai'], ['Liūčių', 'tvindomame', 'Dubajuje', 'esantis', 'lietuvis:', 'nustėrau', 'pamatęs', 'apsemtą', 'aštuntą', 'viešbučio', 'aukštą'], ['Kauną', 'užplūs', 'skandinaviškos', 'kultūros', 'banga'], ['Maironio', 'lietuvių', 'literatūros', 'muziejui', 'toliau', 'vadovaus', 'D.', 'Cibulskienė'], ['Nufilmuota:', 'ką', 'daryti', 'su', 'nevalyvais', 'ir', 'neblaiviais', 'keleiviais?'], ['Po', 'nuogąstavimo', 'dėl', 'per', 'siauros', 'sankryžos', '–', 'atsakas:', 'viskas', 'apskaičiuota'], ['Viešojo', 'transporto', 'grimasos:', 'keleiviai', 'sugrūsti', 'kaip', 'silkės'], ['Iš', 'Šiaulių', '„Akropolio“', 'buvo', 'evakuoti', 'žmonės'], ['Ukmergės', 'gatvėje', 'neliks', '35', 'medžių:', 'kas', 'čia', 'planuojama?'], ['Vėl', 'pirštu', 'beda', 'į', 'Trijų', 'mergelių', 'tilto', 'defektus:', 'jei', 'taip', 'toliau,', 'viskas', 'bus', 'sulopyta'], ['Nufilmuota:', 'ką', 'daryti', 'su', 'nevalyvais', 'ir', 'neblaiviais', 'keleiviais?'], ['Po', 'nuogąstavimo', 'dėl', 'per', 'siauros', 'sankryžos', '–', 'atsakas:', 'viskas', 'apskaičiuota'], ['Viešojo', 'transporto', 'grimasos:', 'keleiviai', 'sugrūsti', 'kaip', 'silkės'], ['Iš', 'Šiaulių', '„Akropolio“', 'buvo', 'evakuoti', 'žmonės'], ['Žiurkėnas', 'mumyseReikia', 'saugoti', 'savo', 'kailiuką,', 'nes', 'gyvename...'], ['Ar', 'prezidento', 'vadovaujama', 'Valstybės', 'gynimo', 'taryba', 'nieko', 'nebereiškia?', 'Lietuvą', 'pasiekė', 'puiki', 'žinia', '–', 'Vokietijos...'], ['Po', 'Sibirą', '–', 'be', 'vadovoĮpusėjus', '1911-ųjų', 'vasarai,', 'Josifas...'], ['Naujam', 'gyvenimui', 'kylančioje', 'Kauno', 'dalyje', '„YIT', 'Lietuva“', 'baigė', 'statyti', 'pirmuosius', '„Matau', 'Kauną“', 'namus'], ['Išankstinis', 'laidotuvių', 'planavimas:', 'šia', 'tema', 'kalbėti', 'verta'], ['Medicinos', 'centre', '„Northway“', 'Kaune', '–', 'itin', 'platus', 'sveikatos', 'priežiūros', 'paslaugų', 'spektras'], ['„Lidl', 'Lietuva“:', 'ir', 'toliau', 'didinsime', 'parduotuvių', 'bei', 'logistikos', 'centro', 'darbuotojų', 'atlyginimus'], ['Projekto', '„Krėvės80“', 'penkiaaukštis', '–', 'komplekso', 'pažiba'], ['„YIT', 'Lietuva“', 'būsto', 'pardavimai', '–', '39', 'proc.', 'didesni'], ['Naujam', 'gyvenimui', 'kylančioje', 'Kauno', 'dalyje', '„YIT', 'Lietuva“', 'baigė', 'statyti', 'pirmuosius', '„Matau', 'Kauną“', 'namus'], ['Išankstinis', 'laidotuvių', 'planavimas:', 'šia', 'tema', 'kalbėti', 'verta'], ['Medicinos', 'centre', '„Northway“', 'Kaune', '–', 'itin', 'platus', 'sveikatos', 'priežiūros', 'paslaugų', 'spektras'], ['„Lidl', 'Lietuva“:', 'ir', 'toliau', 'didinsime', 'parduotuvių', 'bei', 'logistikos', 'centro', 'darbuotojų', 'atlyginimus'], ['Landynė', 'daugiabutyje:', 'ar', 'gali', 'būti', 'blogiau?'], ['Dėl', 'galios', 'STT', 'per', 'gyvenimus', 'važiuoja', 'buldozeriu?'], ['Policijos', 'pareigūnas:', 'valgyt', 'noriu,', 'na**ui', 'man,', 'protokolai', 'b**t'], ['J.', 'Plisienė:', 'kas', 'tu', 'esi,', 'kai', 'tau', 'niekuo', 'nereikia', 'būti?'], ['Į', 'kompensuojamųjų', 'vaistų', 'rezervinį', 'sąrašą', 'įtraukti', 'vaistai', 'nuo', 'cistinės', 'fibrozės'], ['Specialistė', 'apie', 'lytiškumo', 'suvokimo', 'problemas:', 'lietuviai', 'nori,', 'bet', 'nežino,', 'kaip', 'tai', 'pasakyti'], ['Klaiki', 'situacija:', 'apie', 'savižudybes', 'galvoja', 'ir', '9-mečiai'], ['Pacientų', 'pavėžėjimu', 'rūpinsis', 'nebe', 'savivaldybės,', 'o', 'Greitosios', 'medicinos', 'pagalbos', 'tarnyba'], ['VLK', 'priminė', 'pacientų', 'teises', 'ir', 'atsakomybę', 'už', 'savo', 'sveikatą'], ['A.', 'Dulkys', 'tikisi,', 'kad', 'vaistai', 'nuo', 'cistinės', 'fibrozės', 'taps', 'kompensuojami', 'dar', 'šiemet'], ['PSDF', 'finansuoja', 'naujus', 'tyrimus', 'ir', 'procedūras', 'prostatos,', 'krūties', 'vėžio,', 'žarnyno', 'infekcijoms', 'gydyti'], ['G.', 'Nausėda', 'sureagavo', 'į', 'kritiką:', 'ne', 'A.', 'Bilotaitės', 'reikalas', 'man', 'nurodinėti,', 'ką', 'aš', 'turiu', 'šnekėti'], ['KT', 'vertins,', 'ar', 'kailinių', 'žvėrelių', 'verslo', 'draudimas', 'neprieštarauja', 'Konstitucijai'], ['Vilniaus', 'savivaldybė', 'pritarė', 'naujojo', 'darželio', 'Perkūnkiemyje', 'projektui'], ['Prezidentūra', 'sureagavo', 'į', 'L.', 'Kasčiūno', 'siūlymus:', 'tai', 'negali', 'vėlinti', 'divizijos', 'įgyvendinimo', 'datos'], ['VSAT', 'siūlo', 'griežtinti', 'taisykles', 'pasienyje', 'su', 'Rusija'], ['Žiniasklaida:', 'V.', 'Semeškai', 'paliekant', 'KAM,', 'Gynybos', 'resursų', 'agentūroje', 'dirbti', 'pradėjo', 'jo', 'marti'], ['Sukčiavimo', 'schema,', 'kai', 'tampate', 'nusikaltėlių', 'bendrininku'], ['Tvarumo', 'tendencija:', 'vis', 'daugiau', 'drabužių', 'keliauja', 'iš', 'rankų', 'į', 'rankas'], ['Desertai', 'sveikiau', '–', 'ką', 'rinktis', 'saldžiam', 'kąsneliui', 'prie', 'kavos?'], ['Pavasario', 'mados', 'tendencija:', 'provokacija', 'drąsai', 'ir', 'išskirtinumui'], ['Pavasario', 'mada', '–', 'atraskite', 'tris', 'moteriškos', 'pavasario', 'mados', 'tendencijas', 'gaiviam', 'garderobui'], ['Mada', '–', 'menas', 'ar', 'komercija?'], ['Aktyvusis', 'stilius:', 'derinti', 'tai,', 'kas', 'atrodo', 'nesuderinama'], ['Pateikė', 'daugiau', 'detalių:', 'L.', 'Volkovo', 'užpuolimu', 'Vilniuje', 'įtariami', 'du', 'Lenkijos', 'piliečiai'], ['Maitinimo', 'sektoriaus', 'atstovų', 'protestas', 'prie', 'Vyriausybės:', 'prašo', 'grąžinti', 'lengvatinį', 'PVM', 'tarifą'], ['„Orlen', 'Lietuva“', 'atlygino', '146', 'tūkst.', 'eurų', 'į', 'jūrą', 'išsiliejusios', 'naftos', 'sukeltą', 'žalą'], ['Dominuojanti', 'sporto', 'šaka', 'uostamiestyje', '–', 'plaukimas'], ['„Kauno', 'dienos“', 'studijoje', '–', 'K.', 'Kėvalas:', 'darbas', 'nėra', 'įsakytas,', 'o', 'šventė', 'yra', 'įsakyta'], ['„Kauno', 'dienos“', 'studijoje', '–', 'G.', 'Duoblys:', 'kaip', 'apsaugoti', 'vaikus', 'nuo', 'narkotikų?'], ['„Kauno', 'dienos“', 'studijoje', '–', 'jėgos', 'trikovės', 'čempionas', 'D.', 'Kasulis:', 'mus', 'limituoja', 'galva,', 'ne', 'kūnas'], ['„Kauno', 'dienos“', 'studijoje', '–', 'R.', 'Kurtinaitis:', 'vanduo,', 'duona', 'ir', 'malda', 'nepadės', 'laimėti'], ['„Kauno', 'dienos“', 'studijoje', '–', 'J.', 'Mačiulis:', 'dėl', 'pirmos', 'krizės', 'komandos', 'nereikia', 'ardyti'], ['„Kauno', 'dienos“', 'studijoje', '–', 'A.', 'Žiurauskas:', 'tebūnie', 'prakeikta', 'diena,', 'kai', 'hobį', 'paverčiau', 'darbu'], ['VERT', 'įpareigojo', '„Amber', 'Grid“', 'pakeisti', 'GIPL', 'detales', 'su', 'rusiškomis', 'žymėmis'], ['„LTG', 'Link“', 'pasirašė', '200', 'mln.', 'eurų', 'paskolų', 'sutartis', 'su', 'NIB', 'ir', 'EIB', 'traukiniams', 'įsigyti'], ['Maitinimo', 'sektoriaus', 'atstovų', 'protestas', 'prie', 'Vyriausybės:', 'prašo', 'grąžinti', 'lengvatinį', 'PVM', 'tarifą'], ['„Orlen', 'Lietuva“', 'atlygino', '146', 'tūkst.', 'eurų', 'į', 'jūrą', 'išsiliejusios', 'naftos', 'sukeltą', 'žalą'], ['Lietuvoje', 'startuoja', 'Graikijos', '„Aegean', 'Airlines“', '–', 'dukart', 'per', 'savaitę', 'skraidins', 'į', 'Atėnus'], ['„Maxima“', 'kviečia', 'dirbti:', 'apmokome,', 'suteikiamas', 'transportas,', 'apgyvendinimas', 'bei', 'nemokamas', 'maitinimas'], ['Lietuvos', 'specialistai', 'nuskenavo', 'Bučos', 'ir', 'Borodyankos', 'teritorijas', 'Ukrainoje:', 'buvo', 'apgadinti', 'dronai'], ['Po', 'pranešimo', 'apie', 'smūgį', 'Iranui', 'ES', 'vadovė', 'paragino', 'šalis', 'susilaikyti', 'nuo', 'tolesnių', 'veiksmų'], ['Izraelio', 'ministras,', 'užsiminęs,', 'kad', 'už', 'sprogimų', 'Irane', 'stovi', 'Izraelis,', 'sulaukė', 'pasmerkimo'], ['Prancūzijai', 'areštavus', 'buvusios', 'V.', 'Putino', 'žmonos', 'partnerio', 'vilą', '–', 'Kremliaus', 'kritika'], ['Niujorke', 'atrinkti', 'D.', 'Trumpo', 'baudžiamosios', 'bylos', 'prisiekusieji'], ['Latvijos', 'užsienio', 'reikalų', 'ministre', 'patvirtinta', 'B.', 'Bražė'], ['Latvijos', 'moksleiviai', 'turės', 'galimybę', 'nesimokyti', 'rusų', 'kaip', 'antrosios', 'užsienio', 'kalbos'], ['D.', 'Trumpas:', 'Europa', 'turėtų', 'suteikti', 'Ukrainai', 'daugiau', 'pagalbos'], ['Dominuojanti', 'sporto', 'šaka', 'uostamiestyje', '–', 'plaukimas'], ['Krepšinio', 'trileris', 'Klaipėdoje:', 'du', 'pratęsimai,', '226', 'taškai'], ['Marijampoliečiai', 'dramatiškai', 'palaužė', '„Olimpą“', 'ir', 'išlygino', 'bronzinės', 'serijos', 'rezultatą'], ['„Rytas“', 'pagerbė', 'legendą,', 'triumfavo', 'ir', 'pristatė', 'jaunąjį', 'savo', 'debiutantą'], ['Visų', 'laikų', 'rekordą', 'pagerinęs', 'A.', 'Ebo', 'nukalė', 'triuškinančią', 'pergalę', 'prieš', 'Jonavos', 'ekipą'], ['Oficialu:', '„Žalgiris“', 'sukirto', 'rankomis', 'su', 'D.', 'Riversu'], ['Iki', 'motociklų', 'sezono', 'pradžios', 'liko', 'labai', 'nedaug:', 'kas', 'laukia', 'šiemet?'], ['Ne', 'kartą', 'baustas', 'panevėžietis', 'už', 'kontrabandą', 'vėl', 'pakliuvo', 'į', 'pasieniečių', 'akiratį'], ['Tris', 'pėsčiąsias', 'sužalojusiam', 'neblaiviam', 'pavežėjui', 'siūloma', 'užsegti', 'apykoję'], ['Pateikė', 'daugiau', 'detalių:', 'L.', 'Volkovo', 'užpuolimu', 'Vilniuje', 'įtariami', 'du', 'Lenkijos', 'piliečiai'], ['Vilniuje', 'sustabdytame', 'automobilyje', '–', 'įtartini', 'radiniai,', 'vairuotojas', 'uždarytas', 'į', 'areštinę'], ['Vilniuje', 'ir', 'Vilniaus', 'rajone', 'galimai', 'smurtauta', 'prieš', 'mažamečius'], ['Vilniuje', 'iš', 'moters', 'išvilioti', '6', 'tūkst.', 'eurų'], ['Alytuje', 'išgertuvių', 'metu', 'vyras,', 'įtariama,', 'išžagino', 'moterį'], ['Venecijos', 'šiuolaikinio', 'meno', 'bienalėje', 'atidaromas', 'Lietuvos', 'paviljonas'], ['Už', 'viso', 'gyvenimo', 'nuopelnus', 'Lietuvos', 'kultūros', 'paveldui', 'apdovanoti', 'J.', 'Glemža,', 'R.', 'Jaloveckas'], ['Princas', 'Williamas', 'pirmą', 'kartą', 'po', 'Kate', 'vėžio', 'diagnozės', 'grįžo', 'prie', 'viešųjų', 'pareigų'], ['EŽTT', 'nepriėmė', 'F.', 'Kirkorovo', 'skundo', 'dėl', 'draudimo', 'atvykti', 'į', 'Lietuvą'], ['Spektaklyje', '„Atžalynas“', '–', 'vertybių', 'priminimas'], ['P.', 'Gražulis', 'apie', 'romantiškų', 'santykių', 'atnaujinimą', 'su', 'dukters', 'mama', 'Birute:', 'gal', 'yra', 'tas', 'noras'], ['Mažosios', 'Lietuvos', 'saugomų', 'teritorijų', 'direkcijos', 'lankytojų', 'centrui', '–', 'ypatinga', 'dovana'], ['Dienos', 'horoskopas', '12', 'Zodiako', 'ženklų', '(balandžio', '19', 'd.)'], ['Pensininkas', 'per', 'parą', 'aplankė', '120', 'barų', 'ir', 'tapo', 'pasaulio', 'rekordininku'], ['Sunkiai', 'įsivaizduojamo', 'statumo', 'gatvė', 'negąsdina', 'vairuotojų:', 'avarijų', 'daug,', 'bet', 'sutrumpėja', 'kelias'], ['Atšilus', 'orams', 'viešose', 'vietose', 'lesinti', 'paukščius', 'draudžiama'], ['Dienos', 'horoskopas', '12', 'Zodiako', 'ženklų', '(balandžio', '18', 'd.)'], ['Nusikaltėlis', 'apsiginklavo', 'gyvate', 'ir', 'pabandė', 'apiplėšti', 'parduotuvę'], ['Įspėjamieji', 'pranešimai', 'telefone:', 'kodėl', 'gauna', 'ne', 'visi?']]\n"
     ]
    },
    {
     "ename": "TypeError",
     "evalue": "unhashable type: 'list'",
     "output_type": "error",
     "traceback": [
      "\u001b[1;31m---------------------------------------------------------------------------\u001b[0m",
      "\u001b[1;31mTypeError\u001b[0m                                 Traceback (most recent call last)",
      "Cell \u001b[1;32mIn[55], line 11\u001b[0m\n\u001b[0;32m      8\u001b[0m VisiZodziai \u001b[38;5;241m=\u001b[39m pd\u001b[38;5;241m.\u001b[39mDataFrame() \u001b[38;5;66;03m#naujos data frame sukurimas\u001b[39;00m\n\u001b[0;32m      9\u001b[0m VisiZodziai[\u001b[38;5;124m\"\u001b[39m\u001b[38;5;124mzodziai\u001b[39m\u001b[38;5;124m\"\u001b[39m] \u001b[38;5;241m=\u001b[39m VisuZodziuSarasas\n\u001b[1;32m---> 11\u001b[0m TopZ \u001b[38;5;241m=\u001b[39m \u001b[43mVisiZodziai\u001b[49m\u001b[38;5;241;43m.\u001b[39;49m\u001b[43mgroupby\u001b[49m\u001b[43m(\u001b[49m\u001b[38;5;124;43m\"\u001b[39;49m\u001b[38;5;124;43mzodziai\u001b[39;49m\u001b[38;5;124;43m\"\u001b[39;49m\u001b[43m)\u001b[49m\u001b[38;5;241;43m.\u001b[39;49m\u001b[43mcount\u001b[49m\u001b[43m(\u001b[49m\u001b[43m)\u001b[49m\u001b[38;5;241m.\u001b[39mreset_index()\u001b[38;5;241m.\u001b[39msort_values(by\u001b[38;5;241m=\u001b[39m\u001b[38;5;124m\"\u001b[39m\u001b[38;5;124mzodziai\u001b[39m\u001b[38;5;124m\"\u001b[39m ,ascending\u001b[38;5;241m=\u001b[39m\u001b[38;5;28;01mFalse\u001b[39;00m )\n\u001b[0;32m     12\u001b[0m TopZ\n",
      "File \u001b[1;32m~\\AppData\\Local\\Packages\\PythonSoftwareFoundation.Python.3.12_qbz5n2kfra8p0\\LocalCache\\local-packages\\Python312\\site-packages\\pandas\\core\\groupby\\groupby.py:2324\u001b[0m, in \u001b[0;36mGroupBy.count\u001b[1;34m(self)\u001b[0m\n\u001b[0;32m   2268\u001b[0m \u001b[38;5;250m\u001b[39m\u001b[38;5;124;03m\"\"\"\u001b[39;00m\n\u001b[0;32m   2269\u001b[0m \u001b[38;5;124;03mCompute count of group, excluding missing values.\u001b[39;00m\n\u001b[0;32m   2270\u001b[0m \n\u001b[1;32m   (...)\u001b[0m\n\u001b[0;32m   2321\u001b[0m \u001b[38;5;124;03mFreq: MS, dtype: int64\u001b[39;00m\n\u001b[0;32m   2322\u001b[0m \u001b[38;5;124;03m\"\"\"\u001b[39;00m\n\u001b[0;32m   2323\u001b[0m data \u001b[38;5;241m=\u001b[39m \u001b[38;5;28mself\u001b[39m\u001b[38;5;241m.\u001b[39m_get_data_to_aggregate()\n\u001b[1;32m-> 2324\u001b[0m ids, _, ngroups \u001b[38;5;241m=\u001b[39m \u001b[38;5;28;43mself\u001b[39;49m\u001b[38;5;241;43m.\u001b[39;49m\u001b[43m_grouper\u001b[49m\u001b[38;5;241;43m.\u001b[39;49m\u001b[43mgroup_info\u001b[49m\n\u001b[0;32m   2325\u001b[0m mask \u001b[38;5;241m=\u001b[39m ids \u001b[38;5;241m!=\u001b[39m \u001b[38;5;241m-\u001b[39m\u001b[38;5;241m1\u001b[39m\n\u001b[0;32m   2327\u001b[0m is_series \u001b[38;5;241m=\u001b[39m data\u001b[38;5;241m.\u001b[39mndim \u001b[38;5;241m==\u001b[39m \u001b[38;5;241m1\u001b[39m\n",
      "File \u001b[1;32mproperties.pyx:36\u001b[0m, in \u001b[0;36mpandas._libs.properties.CachedProperty.__get__\u001b[1;34m()\u001b[0m\n",
      "File \u001b[1;32m~\\AppData\\Local\\Packages\\PythonSoftwareFoundation.Python.3.12_qbz5n2kfra8p0\\LocalCache\\local-packages\\Python312\\site-packages\\pandas\\core\\groupby\\ops.py:745\u001b[0m, in \u001b[0;36mBaseGrouper.group_info\u001b[1;34m(self)\u001b[0m\n\u001b[0;32m    743\u001b[0m \u001b[38;5;129m@cache_readonly\u001b[39m\n\u001b[0;32m    744\u001b[0m \u001b[38;5;28;01mdef\u001b[39;00m \u001b[38;5;21mgroup_info\u001b[39m(\u001b[38;5;28mself\u001b[39m) \u001b[38;5;241m-\u001b[39m\u001b[38;5;241m>\u001b[39m \u001b[38;5;28mtuple\u001b[39m[npt\u001b[38;5;241m.\u001b[39mNDArray[np\u001b[38;5;241m.\u001b[39mintp], npt\u001b[38;5;241m.\u001b[39mNDArray[np\u001b[38;5;241m.\u001b[39mintp], \u001b[38;5;28mint\u001b[39m]:\n\u001b[1;32m--> 745\u001b[0m     comp_ids, obs_group_ids \u001b[38;5;241m=\u001b[39m \u001b[38;5;28;43mself\u001b[39;49m\u001b[38;5;241;43m.\u001b[39;49m\u001b[43m_get_compressed_codes\u001b[49m\u001b[43m(\u001b[49m\u001b[43m)\u001b[49m\n\u001b[0;32m    747\u001b[0m     ngroups \u001b[38;5;241m=\u001b[39m \u001b[38;5;28mlen\u001b[39m(obs_group_ids)\n\u001b[0;32m    748\u001b[0m     comp_ids \u001b[38;5;241m=\u001b[39m ensure_platform_int(comp_ids)\n",
      "File \u001b[1;32m~\\AppData\\Local\\Packages\\PythonSoftwareFoundation.Python.3.12_qbz5n2kfra8p0\\LocalCache\\local-packages\\Python312\\site-packages\\pandas\\core\\groupby\\ops.py:769\u001b[0m, in \u001b[0;36mBaseGrouper._get_compressed_codes\u001b[1;34m(self)\u001b[0m\n\u001b[0;32m    766\u001b[0m     \u001b[38;5;66;03m# FIXME: compress_group_index's second return value is int64, not intp\u001b[39;00m\n\u001b[0;32m    768\u001b[0m ping \u001b[38;5;241m=\u001b[39m \u001b[38;5;28mself\u001b[39m\u001b[38;5;241m.\u001b[39mgroupings[\u001b[38;5;241m0\u001b[39m]\n\u001b[1;32m--> 769\u001b[0m \u001b[38;5;28;01mreturn\u001b[39;00m \u001b[43mping\u001b[49m\u001b[38;5;241;43m.\u001b[39;49m\u001b[43mcodes\u001b[49m, np\u001b[38;5;241m.\u001b[39marange(\u001b[38;5;28mlen\u001b[39m(ping\u001b[38;5;241m.\u001b[39m_group_index), dtype\u001b[38;5;241m=\u001b[39mnp\u001b[38;5;241m.\u001b[39mintp)\n",
      "File \u001b[1;32m~\\AppData\\Local\\Packages\\PythonSoftwareFoundation.Python.3.12_qbz5n2kfra8p0\\LocalCache\\local-packages\\Python312\\site-packages\\pandas\\core\\groupby\\grouper.py:691\u001b[0m, in \u001b[0;36mGrouping.codes\u001b[1;34m(self)\u001b[0m\n\u001b[0;32m    689\u001b[0m \u001b[38;5;129m@property\u001b[39m\n\u001b[0;32m    690\u001b[0m \u001b[38;5;28;01mdef\u001b[39;00m \u001b[38;5;21mcodes\u001b[39m(\u001b[38;5;28mself\u001b[39m) \u001b[38;5;241m-\u001b[39m\u001b[38;5;241m>\u001b[39m npt\u001b[38;5;241m.\u001b[39mNDArray[np\u001b[38;5;241m.\u001b[39msignedinteger]:\n\u001b[1;32m--> 691\u001b[0m     \u001b[38;5;28;01mreturn\u001b[39;00m \u001b[38;5;28;43mself\u001b[39;49m\u001b[38;5;241;43m.\u001b[39;49m\u001b[43m_codes_and_uniques\u001b[49m[\u001b[38;5;241m0\u001b[39m]\n",
      "File \u001b[1;32mproperties.pyx:36\u001b[0m, in \u001b[0;36mpandas._libs.properties.CachedProperty.__get__\u001b[1;34m()\u001b[0m\n",
      "File \u001b[1;32m~\\AppData\\Local\\Packages\\PythonSoftwareFoundation.Python.3.12_qbz5n2kfra8p0\\LocalCache\\local-packages\\Python312\\site-packages\\pandas\\core\\groupby\\grouper.py:835\u001b[0m, in \u001b[0;36mGrouping._codes_and_uniques\u001b[1;34m(self)\u001b[0m\n\u001b[0;32m    830\u001b[0m     uniques \u001b[38;5;241m=\u001b[39m \u001b[38;5;28mself\u001b[39m\u001b[38;5;241m.\u001b[39m_uniques\n\u001b[0;32m    831\u001b[0m \u001b[38;5;28;01melse\u001b[39;00m:\n\u001b[0;32m    832\u001b[0m     \u001b[38;5;66;03m# GH35667, replace dropna=False with use_na_sentinel=False\u001b[39;00m\n\u001b[0;32m    833\u001b[0m     \u001b[38;5;66;03m# error: Incompatible types in assignment (expression has type \"Union[\u001b[39;00m\n\u001b[0;32m    834\u001b[0m     \u001b[38;5;66;03m# ndarray[Any, Any], Index]\", variable has type \"Categorical\")\u001b[39;00m\n\u001b[1;32m--> 835\u001b[0m     codes, uniques \u001b[38;5;241m=\u001b[39m \u001b[43malgorithms\u001b[49m\u001b[38;5;241;43m.\u001b[39;49m\u001b[43mfactorize\u001b[49m\u001b[43m(\u001b[49m\u001b[43m  \u001b[49m\u001b[38;5;66;43;03m# type: ignore[assignment]\u001b[39;49;00m\n\u001b[0;32m    836\u001b[0m \u001b[43m        \u001b[49m\u001b[38;5;28;43mself\u001b[39;49m\u001b[38;5;241;43m.\u001b[39;49m\u001b[43mgrouping_vector\u001b[49m\u001b[43m,\u001b[49m\u001b[43m \u001b[49m\u001b[43msort\u001b[49m\u001b[38;5;241;43m=\u001b[39;49m\u001b[38;5;28;43mself\u001b[39;49m\u001b[38;5;241;43m.\u001b[39;49m\u001b[43m_sort\u001b[49m\u001b[43m,\u001b[49m\u001b[43m \u001b[49m\u001b[43muse_na_sentinel\u001b[49m\u001b[38;5;241;43m=\u001b[39;49m\u001b[38;5;28;43mself\u001b[39;49m\u001b[38;5;241;43m.\u001b[39;49m\u001b[43m_dropna\u001b[49m\n\u001b[0;32m    837\u001b[0m \u001b[43m    \u001b[49m\u001b[43m)\u001b[49m\n\u001b[0;32m    838\u001b[0m \u001b[38;5;28;01mreturn\u001b[39;00m codes, uniques\n",
      "File \u001b[1;32m~\\AppData\\Local\\Packages\\PythonSoftwareFoundation.Python.3.12_qbz5n2kfra8p0\\LocalCache\\local-packages\\Python312\\site-packages\\pandas\\core\\algorithms.py:795\u001b[0m, in \u001b[0;36mfactorize\u001b[1;34m(values, sort, use_na_sentinel, size_hint)\u001b[0m\n\u001b[0;32m    792\u001b[0m             \u001b[38;5;66;03m# Don't modify (potentially user-provided) array\u001b[39;00m\n\u001b[0;32m    793\u001b[0m             values \u001b[38;5;241m=\u001b[39m np\u001b[38;5;241m.\u001b[39mwhere(null_mask, na_value, values)\n\u001b[1;32m--> 795\u001b[0m     codes, uniques \u001b[38;5;241m=\u001b[39m \u001b[43mfactorize_array\u001b[49m\u001b[43m(\u001b[49m\n\u001b[0;32m    796\u001b[0m \u001b[43m        \u001b[49m\u001b[43mvalues\u001b[49m\u001b[43m,\u001b[49m\n\u001b[0;32m    797\u001b[0m \u001b[43m        \u001b[49m\u001b[43muse_na_sentinel\u001b[49m\u001b[38;5;241;43m=\u001b[39;49m\u001b[43muse_na_sentinel\u001b[49m\u001b[43m,\u001b[49m\n\u001b[0;32m    798\u001b[0m \u001b[43m        \u001b[49m\u001b[43msize_hint\u001b[49m\u001b[38;5;241;43m=\u001b[39;49m\u001b[43msize_hint\u001b[49m\u001b[43m,\u001b[49m\n\u001b[0;32m    799\u001b[0m \u001b[43m    \u001b[49m\u001b[43m)\u001b[49m\n\u001b[0;32m    801\u001b[0m \u001b[38;5;28;01mif\u001b[39;00m sort \u001b[38;5;129;01mand\u001b[39;00m \u001b[38;5;28mlen\u001b[39m(uniques) \u001b[38;5;241m>\u001b[39m \u001b[38;5;241m0\u001b[39m:\n\u001b[0;32m    802\u001b[0m     uniques, codes \u001b[38;5;241m=\u001b[39m safe_sort(\n\u001b[0;32m    803\u001b[0m         uniques,\n\u001b[0;32m    804\u001b[0m         codes,\n\u001b[1;32m   (...)\u001b[0m\n\u001b[0;32m    807\u001b[0m         verify\u001b[38;5;241m=\u001b[39m\u001b[38;5;28;01mFalse\u001b[39;00m,\n\u001b[0;32m    808\u001b[0m     )\n",
      "File \u001b[1;32m~\\AppData\\Local\\Packages\\PythonSoftwareFoundation.Python.3.12_qbz5n2kfra8p0\\LocalCache\\local-packages\\Python312\\site-packages\\pandas\\core\\algorithms.py:595\u001b[0m, in \u001b[0;36mfactorize_array\u001b[1;34m(values, use_na_sentinel, size_hint, na_value, mask)\u001b[0m\n\u001b[0;32m    592\u001b[0m hash_klass, values \u001b[38;5;241m=\u001b[39m _get_hashtable_algo(values)\n\u001b[0;32m    594\u001b[0m table \u001b[38;5;241m=\u001b[39m hash_klass(size_hint \u001b[38;5;129;01mor\u001b[39;00m \u001b[38;5;28mlen\u001b[39m(values))\n\u001b[1;32m--> 595\u001b[0m uniques, codes \u001b[38;5;241m=\u001b[39m \u001b[43mtable\u001b[49m\u001b[38;5;241;43m.\u001b[39;49m\u001b[43mfactorize\u001b[49m\u001b[43m(\u001b[49m\n\u001b[0;32m    596\u001b[0m \u001b[43m    \u001b[49m\u001b[43mvalues\u001b[49m\u001b[43m,\u001b[49m\n\u001b[0;32m    597\u001b[0m \u001b[43m    \u001b[49m\u001b[43mna_sentinel\u001b[49m\u001b[38;5;241;43m=\u001b[39;49m\u001b[38;5;241;43m-\u001b[39;49m\u001b[38;5;241;43m1\u001b[39;49m\u001b[43m,\u001b[49m\n\u001b[0;32m    598\u001b[0m \u001b[43m    \u001b[49m\u001b[43mna_value\u001b[49m\u001b[38;5;241;43m=\u001b[39;49m\u001b[43mna_value\u001b[49m\u001b[43m,\u001b[49m\n\u001b[0;32m    599\u001b[0m \u001b[43m    \u001b[49m\u001b[43mmask\u001b[49m\u001b[38;5;241;43m=\u001b[39;49m\u001b[43mmask\u001b[49m\u001b[43m,\u001b[49m\n\u001b[0;32m    600\u001b[0m \u001b[43m    \u001b[49m\u001b[43mignore_na\u001b[49m\u001b[38;5;241;43m=\u001b[39;49m\u001b[43muse_na_sentinel\u001b[49m\u001b[43m,\u001b[49m\n\u001b[0;32m    601\u001b[0m \u001b[43m\u001b[49m\u001b[43m)\u001b[49m\n\u001b[0;32m    603\u001b[0m \u001b[38;5;66;03m# re-cast e.g. i8->dt64/td64, uint8->bool\u001b[39;00m\n\u001b[0;32m    604\u001b[0m uniques \u001b[38;5;241m=\u001b[39m _reconstruct_data(uniques, original\u001b[38;5;241m.\u001b[39mdtype, original)\n",
      "File \u001b[1;32mpandas\\\\_libs\\\\hashtable_class_helper.pxi:7281\u001b[0m, in \u001b[0;36mpandas._libs.hashtable.PyObjectHashTable.factorize\u001b[1;34m()\u001b[0m\n",
      "File \u001b[1;32mpandas\\\\_libs\\\\hashtable_class_helper.pxi:7195\u001b[0m, in \u001b[0;36mpandas._libs.hashtable.PyObjectHashTable._unique\u001b[1;34m()\u001b[0m\n",
      "\u001b[1;31mTypeError\u001b[0m: unhashable type: 'list'"
     ]
    }
   ],
   "source": [
    "#Advanced: suraskite dažniausiai pasikartojantį žodį pavadinimuose.\n",
    "\n",
    "VisuZodziuSarasas = []\n",
    "for e in sarasas['Pavadinimas'].str.split():\n",
    "    VisuZodziuSarasas.extend(e)\n",
    "print(VisuZodziuSarasas)\n",
    "VisiZodziai = pd.DataFrame() # naujos data frame sukurimas\n",
    "VisiZodziai['zodziai'] = VisuZodziuSarasas\n",
    "VisiZodziai['zodziai'].value_counts().sort_values(ascending=False).reset_index()\n",
    "\n"
   ]
  },
  {
   "cell_type": "code",
   "execution_count": 24,
   "metadata": {},
   "outputs": [
    {
     "data": {
      "text/html": [
       "<div>\n",
       "<style scoped>\n",
       "    .dataframe tbody tr th:only-of-type {\n",
       "        vertical-align: middle;\n",
       "    }\n",
       "\n",
       "    .dataframe tbody tr th {\n",
       "        vertical-align: top;\n",
       "    }\n",
       "\n",
       "    .dataframe thead th {\n",
       "        text-align: right;\n",
       "    }\n",
       "</style>\n",
       "<table border=\"1\" class=\"dataframe\">\n",
       "  <thead>\n",
       "    <tr style=\"text-align: right;\">\n",
       "      <th></th>\n",
       "      <th>žodžių_kiekis</th>\n",
       "      <th>count</th>\n",
       "    </tr>\n",
       "  </thead>\n",
       "  <tbody>\n",
       "    <tr>\n",
       "      <th>0</th>\n",
       "      <td>7</td>\n",
       "      <td>23</td>\n",
       "    </tr>\n",
       "    <tr>\n",
       "      <th>1</th>\n",
       "      <td>10</td>\n",
       "      <td>17</td>\n",
       "    </tr>\n",
       "    <tr>\n",
       "      <th>2</th>\n",
       "      <td>11</td>\n",
       "      <td>17</td>\n",
       "    </tr>\n",
       "    <tr>\n",
       "      <th>3</th>\n",
       "      <td>8</td>\n",
       "      <td>15</td>\n",
       "    </tr>\n",
       "    <tr>\n",
       "      <th>4</th>\n",
       "      <td>12</td>\n",
       "      <td>14</td>\n",
       "    </tr>\n",
       "    <tr>\n",
       "      <th>5</th>\n",
       "      <td>6</td>\n",
       "      <td>11</td>\n",
       "    </tr>\n",
       "    <tr>\n",
       "      <th>6</th>\n",
       "      <td>5</td>\n",
       "      <td>7</td>\n",
       "    </tr>\n",
       "    <tr>\n",
       "      <th>7</th>\n",
       "      <td>9</td>\n",
       "      <td>6</td>\n",
       "    </tr>\n",
       "    <tr>\n",
       "      <th>8</th>\n",
       "      <td>13</td>\n",
       "      <td>6</td>\n",
       "    </tr>\n",
       "    <tr>\n",
       "      <th>9</th>\n",
       "      <td>14</td>\n",
       "      <td>5</td>\n",
       "    </tr>\n",
       "    <tr>\n",
       "      <th>10</th>\n",
       "      <td>4</td>\n",
       "      <td>1</td>\n",
       "    </tr>\n",
       "    <tr>\n",
       "      <th>11</th>\n",
       "      <td>15</td>\n",
       "      <td>1</td>\n",
       "    </tr>\n",
       "  </tbody>\n",
       "</table>\n",
       "</div>"
      ],
      "text/plain": [
       "    žodžių_kiekis  count\n",
       "0               7     23\n",
       "1              10     17\n",
       "2              11     17\n",
       "3               8     15\n",
       "4              12     14\n",
       "5               6     11\n",
       "6               5      7\n",
       "7               9      6\n",
       "8              13      6\n",
       "9              14      5\n",
       "10              4      1\n",
       "11             15      1"
      ]
     },
     "execution_count": 24,
     "metadata": {},
     "output_type": "execute_result"
    }
   ],
   "source": [
    "#Po kiek pavadinimų turėjo vienodą žodžių kiekį? Atsakymui pateikite vizualizaciją (grafiką)\n",
    "VienodasZKiekis = KaunoDiena[\"žodžių_kiekis\"].value_counts()\n",
    "VienodasZKiekis.reset_index()"
   ]
  },
  {
   "cell_type": "code",
   "execution_count": 38,
   "metadata": {},
   "outputs": [
    {
     "name": "stderr",
     "output_type": "stream",
     "text": [
      "No artists with labels found to put in legend.  Note that artists whose label start with an underscore are ignored when legend() is called with no argument.\n"
     ]
    },
    {
     "data": {
      "image/png": "[encoded data removed]",
      "text/plain": [
       "<Figure size 640x480 with 1 Axes>"
      ]
     },
     "metadata": {},
     "output_type": "display_data"
    }
   ],
   "source": [
    "a = VienodasZKiekis.index\n",
    "b = VienodasZKiekis.values\n",
    "fig, ax = plt.subplots()\n",
    "\n",
    "ax.bar(a, b ,color= \"blue\", width = 0.5)\n",
    "ax.set_xticks(a)\n",
    "ax.legend(loc='best')\n",
    "ax.grid()\n",
    "ax.set_xlabel(\"Pavadinimai turi vienodą žodžių kiekį\")\n",
    "ax.set_ylabel(\"Straipsniu kiekis\")\n",
    "ax.set_title(\"Zodziu kiekis pavadinime\")\n",
    "plt.show()"
   ]
  }
 ],
 "metadata": {
  "kernelspec": {
   "display_name": "Python 3",
   "language": "python",
   "name": "python3"
  },
  "language_info": {
   "codemirror_mode": {
    "name": "ipython",
    "version": 3
   },
   "file_extension": ".py",
   "mimetype": "text/x-python",
   "name": "python",
   "nbconvert_exporter": "python",
   "pygments_lexer": "ipython3",
   "version": "3.12.3"
  }
 },
 "nbformat": 4,
 "nbformat_minor": 2
}
