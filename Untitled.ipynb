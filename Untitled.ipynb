{
 "cells": [
  {
   "cell_type": "code",
   "execution_count": 2,
   "metadata": {},
   "outputs": [
    {
     "name": "stdout",
     "output_type": "stream",
     "text": [
      "Testas\n"
     ]
    }
   ],
   "source": [
    "print (\"Testas\")"
   ]
  },
  {
   "cell_type": "code",
   "execution_count": 5,
   "metadata": {},
   "outputs": [
    {
     "name": "stdout",
     "output_type": "stream",
     "text": [
      "<class 'str'>\n",
      "<class 'int'>\n",
      "<class 'list'>\n"
     ]
    },
    {
     "data": {
      "text/plain": [
       "'TEKSTAS'"
      ]
     },
     "execution_count": 5,
     "metadata": {},
     "output_type": "execute_result"
    }
   ],
   "source": [
    "#Klases!!!!!!!!!!!!!!!!!!!!!!!!!!!!!!!!!!!!!!!!!!!!!!!!!!!!!!!!!!!!!!!!!!!!!!!!!!!!!!!!!!!!!!!!!!!!!!!!!!!!!!!!!!!!!!!!!!!!!!!!!\n",
    "s = \"tekstas\"\n",
    "sk = 7\n",
    "sar = []\n",
    "print (type(s) , type(sk), type(sar) , sep= \"\\n\")\n",
    "s.upper()"
   ]
  },
  {
   "cell_type": "code",
   "execution_count": 7,
   "metadata": {},
   "outputs": [],
   "source": [
    "class Asmuo():\n",
    "    pass"
   ]
  },
  {
   "cell_type": "code",
   "execution_count": 8,
   "metadata": {},
   "outputs": [
    {
     "name": "stdout",
     "output_type": "stream",
     "text": [
      "<class '__main__.Asmuo'>\n",
      "<class '__main__.Asmuo'>\n"
     ]
    }
   ],
   "source": [
    "a1 = Asmuo()\n",
    "a2 = Asmuo()\n",
    "print(type(a1) , type(a2) , sep=\"\\n\")"
   ]
  },
  {
   "cell_type": "code",
   "execution_count": 9,
   "metadata": {},
   "outputs": [],
   "source": [
    "class Asmuo():\n",
    "    def __init__(self):\n",
    "        pass"
   ]
  },
  {
   "cell_type": "code",
   "execution_count": 10,
   "metadata": {},
   "outputs": [
    {
     "name": "stdout",
     "output_type": "stream",
     "text": [
      "<class '__main__.Asmuo'>\n",
      "<class '__main__.Asmuo'>\n"
     ]
    }
   ],
   "source": [
    "a1 = Asmuo()\n",
    "a2 = Asmuo()\n",
    "print(type(a1) , type(a2) , sep=\"\\n\")"
   ]
  },
  {
   "cell_type": "code",
   "execution_count": 53,
   "metadata": {},
   "outputs": [],
   "source": [
    "def calculateAge():\n",
    "    return \"Cha!!!!\"\n",
    "\n",
    "class Asmuo():\n",
    "    def __init__(self, name, gm):\n",
    "        self.Name = name                     #klases atributas(tiesiog kintamasis,esantis klases viduja). Self pazymi ,kad Name(kintamasis) priklauso \n",
    "        self.Byear = gm\n",
    "        self.Age = self.calculateAge()             #kreiptis i metoda is kito metodo\n",
    "        pass\n",
    "    def getName(self):\n",
    "        return self.Name\n",
    "    \n",
    "    def setName(self, new_name):\n",
    "        self.Name = new_name\n",
    "    def calculateAge(self):\n",
    "        return 2024-self.Byear "
   ]
  },
  {
   "cell_type": "code",
   "execution_count": 55,
   "metadata": {},
   "outputs": [
    {
     "name": "stdout",
     "output_type": "stream",
     "text": [
      "28 Vardenis\n"
     ]
    }
   ],
   "source": [
    "a1 = Asmuo(\"Vardenis\" , 1996)\n",
    "print(a1.Age , a1.getName())"
   ]
  },
  {
   "cell_type": "code",
   "execution_count": 60,
   "metadata": {},
   "outputs": [],
   "source": [
    "#paveldejimas\n",
    "\n",
    "class Studentas(Asmuo):       \n",
    "    def getStatus(self):\n",
    "        return \"Studentas\"\n",
    "\n"
   ]
  },
  {
   "cell_type": "code",
   "execution_count": 61,
   "metadata": {},
   "outputs": [],
   "source": [
    "std1 = Studentas(\"Une\" , 1992)"
   ]
  },
  {
   "cell_type": "code",
   "execution_count": 62,
   "metadata": {},
   "outputs": [
    {
     "name": "stdout",
     "output_type": "stream",
     "text": [
      "32 Une\n"
     ]
    }
   ],
   "source": [
    "print(std1.Age , std1.getName())"
   ]
  },
  {
   "cell_type": "code",
   "execution_count": 63,
   "metadata": {},
   "outputs": [
    {
     "data": {
      "text/plain": [
       "'Studentas'"
      ]
     },
     "execution_count": 63,
     "metadata": {},
     "output_type": "execute_result"
    }
   ],
   "source": [
    "std1. getStatus()"
   ]
  },
  {
   "cell_type": "code",
   "execution_count": 67,
   "metadata": {},
   "outputs": [],
   "source": [
    "#sudetingesnis paveldejimo atvejis \n",
    "\n",
    "class Studentas(Asmuo):\n",
    "    def __init__(self ,name, gm):\n",
    "        super().__init__(name , gm)\n",
    "        self.Enroll = True\n",
    "std1 = Studentas(\"Une\" , 1996)"
   ]
  },
  {
   "cell_type": "code",
   "execution_count": 69,
   "metadata": {},
   "outputs": [
    {
     "name": "stdout",
     "output_type": "stream",
     "text": [
      "28 True\n"
     ]
    }
   ],
   "source": [
    "print(std1.Age, std1.Enroll)"
   ]
  },
  {
   "cell_type": "code",
   "execution_count": 75,
   "metadata": {},
   "outputs": [
    {
     "name": "stdout",
     "output_type": "stream",
     "text": [
      "36\n"
     ]
    }
   ],
   "source": [
    "# aprašykite klasę Kvadratas\n",
    "# kreipiantis į klasę, reikia nurodyti kvadrato ilgį a.\n",
    "# Klasė turi turėti atributą Plotas, kurį \n",
    "# turi apskaičiuoti klasės kūrimo metu.\n",
    "# Plotas = a*a\n",
    "# parašykite metodą, kuris grąžintų apskaičiuoto Plotas atributo reikšmę.\n",
    "\n",
    "class Kvadratas():\n",
    "    def __init__(self ,a):\n",
    "        self.Plotas = a*a\n",
    "    def plotas(self):\n",
    "        return self.Plotas\n",
    "kvadratu = Kvadratas(a=6)\n",
    "print(kvadratu.plotas())"
   ]
  },
  {
   "cell_type": "code",
   "execution_count": 81,
   "metadata": {},
   "outputs": [
    {
     "name": "stdout",
     "output_type": "stream",
     "text": [
      "40\n",
      "26\n"
     ]
    }
   ],
   "source": [
    "# aprašykite klasę Rectangle\n",
    "# kreipiantis į klasę, reikia nurodyti stačiakampio\n",
    "# kraštines a ir b.\n",
    "# Realizuokite atributą Plotas = a*b\n",
    "# ir metodą, grąžinantį Ploto reikšmę\n",
    "# Taip pat pridėkite metodą, apskaičiuojantį ir grąžinantį\n",
    "# perimetrą P=2(a+b)\n",
    "\n",
    "class Rectangle():\n",
    "    def __init__(self ,a ,b):\n",
    "        self.Plotas = a*b\n",
    "        self.Perimetras = 2*(a+b)\n",
    "    def plotas(self):\n",
    "        return self.Plotas\n",
    "    def perimetras(self):\n",
    "        return self.Perimetras\n",
    "\n",
    "kintamasis = Rectangle(a=8, b=5)\n",
    "\n",
    "\n",
    "print(kintamasis.plotas())\n",
    "print(kintamasis.perimetras())\n"
   ]
  },
  {
   "cell_type": "code",
   "execution_count": 83,
   "metadata": {},
   "outputs": [
    {
     "name": "stdout",
     "output_type": "stream",
     "text": [
      "40\n",
      "120\n"
     ]
    }
   ],
   "source": [
    "# Sukurkite klasę, skirtą geometrinių figūrų parametrų skaičiavimui:\n",
    "# • Klasė Stačiakampis - sukūrimo metu automatiškai\n",
    "# # suskaičiuoja plotą ir perimetrą\n",
    "# P = 2(a + b), S = ab\n",
    "# # • Klasė Kubas - sukūrimo metu turi suskaičiuoti paviršiausplotą ir tūrį\n",
    "# V = abc\n",
    "\n",
    "class Stačiakampis():\n",
    "    def __init__(self ,a ,b):\n",
    "        self.Plotas = a*b\n",
    "        self.Perimetras = 2*(a+b)\n",
    "    def plotas(self):\n",
    "        return self.Plotas\n",
    "    def perimetras(self):\n",
    "        return self.Perimetras\n",
    "\n",
    "kintamasis = Rectangle(a=8, b=5)\n",
    "\n",
    "class Kubas():\n",
    "    def __init__(self ,a ,b ,c):\n",
    "        self.Plotas = a*b\n",
    "        self.Turis = a*b*c\n",
    "    def plotas(self):\n",
    "        return self.Plotas\n",
    "    def turis(self):\n",
    "        return self.Turis\n",
    "\n",
    "kintmasis2 = Kubas(a= 5, b= 6 , c=4)\n",
    "print(kintamasis.plotas())\n",
    "print(kintmasis2.turis())\n"
   ]
  },
  {
   "cell_type": "code",
   "execution_count": 107,
   "metadata": {},
   "outputs": [
    {
     "name": "stdout",
     "output_type": "stream",
     "text": [
      "blablabla\n"
     ]
    }
   ],
   "source": [
    "#susikurkite su Notepadu tekstinį failą su bet kokiu tekstu\n",
    "#parašykite klasę TxtReader, kuriai kreipimosimetu būtų nurodomas tekstinio failo pavadinimas;\n",
    "#klasės sukūrimo metu tas tekstinis failas turi būti nuskaitomas\n",
    "#ir nuskaitytas tekstas turi būti priskirtas atributui Text\n",
    "#parašykite metodą getText(), kuri grąžintų atributo text reikšmę\n",
    "\n",
    "class TxtReader():\n",
    "    def __init__ (self, fileName):\n",
    "        self.fileName = fileName\n",
    "\n",
    "        file_r= open (self.fileName , mode = \"r\" , encoding = \"utf -8\")\n",
    "        self.Text = file_r.read()\n",
    "        file_r.close()\n",
    "\n",
    "    def getText(self):\n",
    "            return self.Text\n",
    "kintamasis = TxtReader(\"Naujausias.txt\")\n",
    "print(kintamasis.getText())"
   ]
  },
  {
   "cell_type": "code",
   "execution_count": 122,
   "metadata": {},
   "outputs": [
    {
     "name": "stdout",
     "output_type": "stream",
     "text": [
      "1256.0\n",
      "4186.666666666667\n",
      "1808.64\n",
      "7234.5599999999995\n"
     ]
    }
   ],
   "source": [
    "#Sukurkite klasę Rutulys\n",
    "#kuriai galėtumėte nurodyti Rutulio spindulį r.\n",
    "#Sukurkite metodus, skirtus rasti jo Tūriui ir paviršiaus plotui;\n",
    "#Taip pat metodą, kuriuo jūs pakeistumėte spindulio r reikšmę.\n",
    "\n",
    "class Rutulys():\n",
    "    def __init__ (self, r):\n",
    "        self.r = r\n",
    "           \n",
    "    def getPav_Plotas(self):\n",
    "        Pav_Plotas = 4*3.14*self.r**2\n",
    "        return Pav_Plotas\n",
    "\n",
    "    def getTūris(self):\n",
    "        Tūris = 4/3*3.14*self.r**3\n",
    "        return Tūris\n",
    "    \n",
    "    def changer(self, new_r):\n",
    "        self.r = new_r\n",
    "        \n",
    "r = int(input(\"Įveskite spindulį r\"))\n",
    "    \n",
    "rutulys  = Rutulys(r)\n",
    "print(rutulys.getPav_Plotas())\n",
    "print(rutulys.getTūris())\n",
    "\n",
    "r = int(input(\"Įveskite spindulį r\"))\n",
    "rutulys.changer(r)\n",
    "\n",
    "print(rutulys.getPav_Plotas())\n",
    "print(rutulys.getTūris())\n",
    "\n"
   ]
  },
  {
   "cell_type": "code",
   "execution_count": 135,
   "metadata": {},
   "outputs": [
    {
     "name": "stdout",
     "output_type": "stream",
     "text": [
      "62.800000000000004 P su 10\n",
      "628.0 S su 10\n",
      "31.400000000000002 P su 6\n",
      "157.0 S su 6\n",
      "697.08 P su ivestu skaicu: 111\n",
      "77375.88 S su ivestu skaicu: 111\n"
     ]
    }
   ],
   "source": [
    "#Parašykite klasę Apskritimas, kuriai glite nurodyti apskritimo spindulį r.\n",
    "# Erealizuokite du metodus getS ir getP, plotui ir perimetrui gražinti. \n",
    "\n",
    "class Apskritimas():\n",
    "        def __init__ (self, r):\n",
    "                self.r = r\n",
    "        def getP(self):\n",
    "                Perimetras = 2*3.14*self.r\n",
    "                return Perimetras\n",
    "        def getS(self):\n",
    "                Plotas = 2*3.14*self.r**2\n",
    "                return Plotas\n",
    "        def changer(self, new_r):\n",
    "                self.r = new_r\n",
    "\n",
    "apskritimas = Apskritimas(10)\n",
    "print(apskritimas.getP() , \"P su 10\")\n",
    "print(apskritimas.getS() , \"S su 10\")\n",
    "\n",
    "apskritimas.changer(5)\n",
    "print(apskritimas.getP() , \"P su 6\")\n",
    "print(apskritimas.getS() , \"S su 6\")\n",
    "\n",
    "\n",
    "r = int(input(\"Įveskite spindulį r\"))\n",
    "apskritimas = Apskritimas(r)\n",
    "print(apskritimas.getP() , \"P su ivestu skaicu:\" ,r)\n",
    "print(apskritimas.getS() , \"S su ivestu skaicu:\" ,r)\n",
    "\n",
    "\n"
   ]
  },
  {
   "cell_type": "code",
   "execution_count": 136,
   "metadata": {},
   "outputs": [
    {
     "name": "stdout",
     "output_type": "stream",
     "text": [
      "157.0\n",
      "31.400000000000002\n",
      "628.0\n",
      "62.800000000000004\n"
     ]
    }
   ],
   "source": [
    "#advanced Apskritimas:\n",
    "#padarykite taip, jog klasė Apskritimas turėtų atributus S ir P, plotui ir perimetrui, \n",
    "# ir kad atnaujinus spindulį r, automatiškai pasikeistų S ir P atributų reikšmės, o getS, \n",
    "# getP metodai, kaip ir anksčiau grąžintų S ir P atributų reikšmes.\n",
    "class Apskritimas():\n",
    "    def __init__(self, r):\n",
    "        self.r = r\n",
    "        self.S = 2*3.14*r**2\n",
    "        self.P = 2*3.14*r\n",
    "        \n",
    "    def getS(self):\n",
    "        return self.S\n",
    "    \n",
    "    def getP (self):\n",
    "        return self.P\n",
    "    \n",
    "    def change (self, new_r):\n",
    "        self.r = new_r\n",
    "        self.S = 2*3.14*new_r**2\n",
    "        self.P = 2*3.14*new_r\n",
    "    \n",
    "aps = Apskritimas(5)\n",
    "print(aps.getS())\n",
    "print(aps.getP())\n",
    "aps.change(10)\n",
    "print(aps.getS())\n",
    "print(aps.getP())"
   ]
  },
  {
   "cell_type": "code",
   "execution_count": 137,
   "metadata": {},
   "outputs": [
    {
     "name": "stdout",
     "output_type": "stream",
     "text": [
      "31.400000000000002 78.5\n",
      "62.800000000000004 314.0\n"
     ]
    }
   ],
   "source": [
    "#kitas budas advanced Apskritimas:\n",
    "#padarykite taip, jog klasė Apskritimas turėtų atributus S ir P, plotui ir perimetrui, \n",
    "# ir kad atnaujinus spindulį r, automatiškai pasikeistų S ir P atributų reikšmės, o getS, \n",
    "# getP metodai, kaip ir anksčiau grąžintų S ir P atributų reikšmes.\n",
    "\n",
    "class Apskritimas():\n",
    "    def __init__(self, r):\n",
    "        self.R = r\n",
    "        self.S = 0\n",
    "        self.P = 0\n",
    "        self.upadeAll()\n",
    "    \n",
    "    def getP(self):\n",
    "        return self.P\n",
    "    \n",
    "    def getS(self):\n",
    "        return self.S\n",
    "    \n",
    "    def upadeAll(self):\n",
    "        self.S = 3.14*self.R**2\n",
    "        self.P = 2*3.14*self.R\n",
    "        \n",
    "    def change(self, new_r):\n",
    "        self.R = new_r\n",
    "        self.upadeAll()\n",
    "\n",
    "a = Apskritimas(5)\n",
    "print(a.getP(), a.getS())\n",
    "a.change(10)\n",
    "print(a.getP(), a.getS())"
   ]
  },
  {
   "cell_type": "code",
   "execution_count": 144,
   "metadata": {},
   "outputs": [
    {
     "name": "stdout",
     "output_type": "stream",
     "text": [
      "Plotas: \n",
      "50\n",
      "Perimetras: \n",
      "30\n",
      "Piramides turis:  10.0\n",
      "Kubo turis:  30\n"
     ]
    }
   ],
   "source": [
    "#užduotis su paveldjimu:\n",
    "#parašykite klasę Rectangle, kurioje būtų ilgio ir pločio atributai, bei du metodai - getS - plotui ir getP -perimetrui rasti\n",
    "#Sukurkite išvestinę (child) klasę Kubas, kuri papildomai turėtų Tūrio skaičiavimo metodą\n",
    "#• Klasę Piramidė - išvestinė klasė (child class). Pridėkite\n",
    "# papildomą funkcionalumą - metodą, argumentus piramidės\n",
    "# tūrio skaičiavimui.\n",
    "class Rectangle():\n",
    "    def __init__(self, a, b): \n",
    "        self.S = a * b\n",
    "        self.P = 2*(a + b)\n",
    "    def getP(self):      \n",
    "        return self.P\n",
    "    def getS(self):      \n",
    "        return self.S\n",
    "figura = Rectangle(a=10, b=5)\n",
    "print(\"Plotas: \", figura.getS(), \"Perimetras: \",figura.getP(), sep = '\\n')\n",
    "\n",
    "class Piramide(Rectangle):\n",
    "    def __init__ (self, a, b, h):\n",
    "        super().__init__(a, b) # cia atkeliavo is Rectangle funkcijos, 9 eilute\n",
    "        self.h = h\n",
    "    def get_piramides_turis(self):\n",
    "        Turis = 1/3*self.S*self.h\n",
    "        return Turis\n",
    "figura = Piramide(a= 2, b=3, h=5)\n",
    "print(\"Piramides turis: \", figura.get_piramides_turis())\n",
    "class Kubas(Rectangle):\n",
    "    def __init__ (self, a, b, h):\n",
    "        super().__init__(a, b) # cia atkeliavo is Rectangle funkcijos, 9 eilute\n",
    "        self.a = h\n",
    "    def getKubo_turis(self):\n",
    "        Turis = self.S*self.a\n",
    "        return Turis\n",
    "figura = Kubas(a= 2, b=5, h= 3)\n",
    "print(\"Kubo turis: \", figura.getKubo_turis())\n",
    "        \n"
   ]
  },
  {
   "cell_type": "code",
   "execution_count": 9,
   "metadata": {},
   "outputs": [
    {
     "name": "stdout",
     "output_type": "stream",
     "text": [
      "20\n",
      "20\n",
      "20\n"
     ]
    }
   ],
   "source": [
    "# #su paveldėjimu:\n",
    "# Sukurkite klasę Vehicle su tokiais atributais - Pavadinimas, Rida\n",
    "#Sukurkite išvestines klases Car, Bus, Train, kurie paveldėtų viską iš Vehicle, ir papildomai būtų galima nurodyti Seats - sėdimų vietų skaičių, \n",
    "#ir visi turėtų metoda GetSeats() grąžinantį tekstą: <Pavadinimas> turi <Seats> sėdimų vietų.\n",
    "\n",
    "class Vehicle():\n",
    "    def __init__(self, pavadinimas, rida): \n",
    "        self.pavadinimas = pavadinimas\n",
    "        self.rida = rida\n",
    "class Car(Vehicle):\n",
    "    def __init__(self, pavadinimas, rida ,seats): \n",
    "        super().__init__(pavadinimas, rida)\n",
    "        self.seats = seats\n",
    "    def getSeats(self):\n",
    "        return self.seats\n",
    "\n",
    "car = Car(\"pavadinimas\" ,5, 20)\n",
    "print(car.getSeats())\n",
    "\n",
    "\n",
    "class Bus(Vehicle):\n",
    "    def __init__(self, pavadinimas, rida ,seats): \n",
    "        super().__init__(pavadinimas, rida)\n",
    "        self.seats = seats\n",
    "    def getSeats(self):\n",
    "        return self.seats\n",
    "    \n",
    "bus = Bus(\"Pavadinimas\",5,20)\n",
    "print(bus.getSeats())\n",
    "\n",
    "\n",
    "class Train(Vehicle):\n",
    "    def __init__(self, pavadinimas, rida ,seats): \n",
    "        super().__init__(pavadinimas, rida)\n",
    "        self.seats = seats\n",
    "    def getSeats(self):\n",
    "        return self.seats    \n",
    "    \n",
    "\n",
    "train = Train(\"Pavadinimas\",5,20)\n",
    "print(train.getSeats())\n",
    "\n",
    "\n"
   ]
  },
  {
   "cell_type": "code",
   "execution_count": 12,
   "metadata": {},
   "outputs": [
    {
     "name": "stdout",
     "output_type": "stream",
     "text": [
      "pavadinimas turi 4 sedimu vietu\n",
      "pavadinimasturi 4 sedimu vietu \n",
      "pavadinimasturi 4 sedimu vietu\n"
     ]
    }
   ],
   "source": [
    "#su paveldėjimu:\n",
    "# Sukurkite klasę Vehicle su tokiais atributais - Pavadinimas, Rida\n",
    "#Sukurkite išvestines klases Car, Bus, Train,\n",
    "# kurie paveldėtų viską iš Vehicle, ir papildomai būtų galima\n",
    "# nurodyti Seats - sėdimų vietų skaičių, ir visi \n",
    "# turėtų metoda GetSeats() grąžinantį tekstą:\n",
    "# <Pavadinimas> turi <Seats> sėdimų vietų.\n",
    "# Remigijaus: \n",
    "class Vehicle():\n",
    "    def __init__(self, P, R):\n",
    "        self.P = P\n",
    "        self.R = R\n",
    "class Car(Vehicle):\n",
    "    def __init__(self, P, R, S):\n",
    "       super().__init__(P, R)\n",
    "       self.S = S\n",
    "    \n",
    "    def GetSeats(self):\n",
    "        Txt = self.P + \" turi \" + str(self.S) + \" sedimu vietu\"\n",
    "        return Txt\n",
    "    \n",
    "test = Car(P= 'pavadinimas', R=5000, S= 4)\n",
    "print(test.GetSeats())\n",
    "class Bus(Vehicle):\n",
    "    def __init__(self, P, R, S):\n",
    "       super().__init__(P, R)\n",
    "       self.S = S\n",
    "    \n",
    "    def GetSeats(self):\n",
    "        Txt = self.P + \"turi \" + str(self.S) + \" sedimu vietu \"\n",
    "        return Txt\n",
    "    \n",
    "test = Bus(P= 'pavadinimas', R=5000, S= 4)\n",
    "print(test.GetSeats())\n",
    "class Train(Vehicle):\n",
    "    def __init__(self, P, R, S):\n",
    "       super().__init__(P, R)\n",
    "       self.S = S\n",
    "    \n",
    "    def GetSeats(self):\n",
    "        Txt = self.P + \"turi \" + str(self.S) + \" sedimu vietu\"\n",
    "        return Txt\n",
    "    \n",
    "test = Train(P= 'pavadinimas', R=5000, S= 4)\n",
    "print(test.GetSeats())"
   ]
  },
  {
   "cell_type": "code",
   "execution_count": 5,
   "metadata": {},
   "outputs": [
    {
     "name": "stdout",
     "output_type": "stream",
     "text": [
      "['52;0.3666;19.0616\\n', '11;0.8672;9.5391\\n', '55;0.9966;54.8137\\n', '55;0.7318;40.2481\\n', '47;0.6703;31.5026\\n', '71;0.2205;15.6522\\n', '49;0.4725;23.1545\\n', '48;0.5563;26.7004\\n', '82;0.5348;43.8516\\n', '24;0.3462;8.3078\\n', '13;0.784;10.1921\\n', '95;0.348;33.0584\\n', '22;0.8328;18.3206\\n', '95;0.5423;51.5156\\n', '32;0.3351;10.722\\n', '35;0.1916;6.7055\\n', '86;0.1262;10.8526\\n', '90;0.5941;53.47\\n', '8;0.914;7.3119\\n', '21;0.7839;16.4628\\n', '23;0.7763;17.8547\\n', '92;0.8757;80.5658\\n', '38;0.4502;17.1066\\n', '99;0.6906;68.37\\n', '29;0.8418;24.4108\\n', '93;0.1275;11.8609\\n', '53;0.1101;5.8339\\n', '87;0.3211;27.9361\\n', '47;0.5525;25.9672\\n', '38;0.5458;20.7417\\n', '38;0.8458;32.1402\\n', '36;0.6115;22.0154\\n', '83;0.5083;42.1888\\n', '79;0.7373;58.2501\\n', '2;0.9759;1.9518\\n', '18;0.7192;12.9463\\n', '86;0.0424;3.6446\\n', '78;0.4218;32.9034\\n', '51;0.8271;42.1807\\n', '7;0.796;5.5719\\n', '65;0.2074;13.4795\\n', '9;0.0712;0.6406\\n', '50;0.0602;3.0117\\n', '59;0.1218;7.1866\\n', '91;0.5095;46.3658\\n', '39;0.4785;18.662\\n', '36;0.9309;33.5135\\n', '16;0.9365;14.9834\\n', '73;0.918;67.0125\\n', '54;0.8063;43.5409\\n', '79;0.6445;50.9184\\n', '47;0.2458;11.5529\\n', '97;0.891;86.4277\\n', '0;0.447;0.0\\n', '18;0.4852;8.7331\\n', '54;0.2035;10.9905\\n', '93;0.8647;80.4135\\n', '79;0.0794;6.2735\\n', '62;0.8848;54.8547\\n', '63;0.632;39.8134\\n', '22;0.2339;5.146\\n', '49;0.5989;29.3444\\n', '19;0.3103;5.8948\\n', '43;0.6658;28.6315\\n', '65;0.2537;16.4886\\n', '0;0.141;0.0\\n', '80;0.034;2.7227\\n', '70;0.845;59.1502\\n', '95;0.2386;22.6687\\n', '58;0.9328;54.1016\\n', '47;0.8425;39.5996\\n', '89;0.4205;37.4252\\n', '99;0.6455;63.9074\\n', '94;0.4627;43.4957\\n', '70;0.3674;25.7203\\n', '41;0.0327;1.339\\n', '60;0.1313;7.8757\\n', '18;0.6409;11.5358\\n', '12;0.8725;10.4701\\n', '3;0.6112;1.8335\\n', '28;0.9838;27.5461\\n', '50;0.1139;5.6974\\n', '33;0.5738;18.9364\\n', '52;0.8379;43.5727\\n', '99;0.5597;55.4141\\n', '41;0.7883;32.3216\\n', '1;0.4241;0.4241\\n', '58;0.511;29.6396\\n', '60;0.876;52.5573\\n', '5;0.45;2.2501\\n', '3;0.0977;0.293\\n', '44;0.7697;33.8663\\n', '83;0.5361;44.4997\\n', '51;0.671;34.2191\\n', '58;0.8126;47.1291\\n', '27;0.0196;0.5292\\n', '71;0.8812;62.5665\\n', '96;0.1953;18.7448\\n', '18;0.9794;17.63\\n', '83;0.84;69.716']\n",
      "[52.0, 11.0, 55.0, 55.0, 47.0, 71.0, 49.0, 48.0, 82.0, 24.0, 13.0, 95.0, 22.0, 95.0, 32.0, 35.0, 86.0, 90.0, 8.0, 21.0, 23.0, 92.0, 38.0, 99.0, 29.0, 93.0, 53.0, 87.0, 47.0, 38.0, 38.0, 36.0, 83.0, 79.0, 2.0, 18.0, 86.0, 78.0, 51.0, 7.0, 65.0, 9.0, 50.0, 59.0, 91.0, 39.0, 36.0, 16.0, 73.0, 54.0, 79.0, 47.0, 97.0, 0.0, 18.0, 54.0, 93.0, 79.0, 62.0, 63.0, 22.0, 49.0, 19.0, 43.0, 65.0, 0.0, 80.0, 70.0, 95.0, 58.0, 47.0, 89.0, 99.0, 94.0, 70.0, 41.0, 60.0, 18.0, 12.0, 3.0, 28.0, 50.0, 33.0, 52.0, 99.0, 41.0, 1.0, 58.0, 60.0, 5.0, 3.0, 44.0, 83.0, 51.0, 58.0, 27.0, 71.0, 96.0, 18.0, 83.0]\n",
      "[0.3666, 0.8672, 0.9966, 0.7318, 0.6703, 0.2205, 0.4725, 0.5563, 0.5348, 0.3462, 0.784, 0.348, 0.8328, 0.5423, 0.3351, 0.1916, 0.1262, 0.5941, 0.914, 0.7839, 0.7763, 0.8757, 0.4502, 0.6906, 0.8418, 0.1275, 0.1101, 0.3211, 0.5525, 0.5458, 0.8458, 0.6115, 0.5083, 0.7373, 0.9759, 0.7192, 0.0424, 0.4218, 0.8271, 0.796, 0.2074, 0.0712, 0.0602, 0.1218, 0.5095, 0.4785, 0.9309, 0.9365, 0.918, 0.8063, 0.6445, 0.2458, 0.891, 0.447, 0.4852, 0.2035, 0.8647, 0.0794, 0.8848, 0.632, 0.2339, 0.5989, 0.3103, 0.6658, 0.2537, 0.141, 0.034, 0.845, 0.2386, 0.9328, 0.8425, 0.4205, 0.6455, 0.4627, 0.3674, 0.0327, 0.1313, 0.6409, 0.8725, 0.6112, 0.9838, 0.1139, 0.5738, 0.8379, 0.5597, 0.7883, 0.4241, 0.511, 0.876, 0.45, 0.0977, 0.7697, 0.5361, 0.671, 0.8126, 0.0196, 0.8812, 0.1953, 0.9794, 0.84]\n",
      "[19.0616, 9.5391, 54.8137, 40.2481, 31.5026, 15.6522, 23.1545, 26.7004, 43.8516, 8.3078, 10.1921, 33.0584, 18.3206, 51.5156, 10.722, 6.7055, 10.8526, 53.47, 7.3119, 16.4628, 17.8547, 80.5658, 17.1066, 68.37, 24.4108, 11.8609, 5.8339, 27.9361, 25.9672, 20.7417, 32.1402, 22.0154, 42.1888, 58.2501, 1.9518, 12.9463, 3.6446, 32.9034, 42.1807, 5.5719, 13.4795, 0.6406, 3.0117, 7.1866, 46.3658, 18.662, 33.5135, 14.9834, 67.0125, 43.5409, 50.9184, 11.5529, 86.4277, 0.0, 8.7331, 10.9905, 80.4135, 6.2735, 54.8547, 39.8134, 5.146, 29.3444, 5.8948, 28.6315, 16.4886, 0.0, 2.7227, 59.1502, 22.6687, 54.1016, 39.5996, 37.4252, 63.9074, 43.4957, 25.7203, 1.339, 7.8757, 11.5358, 10.4701, 1.8335, 27.5461, 5.6974, 18.9364, 43.5727, 55.4141, 32.3216, 0.4241, 29.6396, 52.5573, 2.2501, 0.293, 33.8663, 44.4997, 34.2191, 47.1291, 0.5292, 62.5665, 18.7448, 17.63, 69.716]\n",
      "(51.47, 0.546122, 27.091621)\n",
      "(0.0, 0.0196, 0.0)\n",
      "(99.0, 0.9966, 86.4277)\n"
     ]
    }
   ],
   "source": [
    "#parašykite klasę TxtAnalyzer, kuriai kreipimosi metu galima būtų nurodyti failo pavadinimą ir stulpelių skirtuką.\n",
    "#klasė sukūrimo metu turi nuskaityti failą, stulpelius skaičių suskirstyti į sąrašus ir juos priskirti atributams X, Y ir Z.\n",
    "#Realizuokite metodus, kurie grąžintų X, Y, Z sąrašų vidurkius, minimalias ir maksimalias vertes. Pythone yra min, max, sum funkcijos\n",
    "\n",
    "class TxtAnalyzer():\n",
    "    def __init__(self, pav, skirtukas):\n",
    "        self.pavadinimas = pav\n",
    "        self.skirt = skirtukas\n",
    "        self.x = []\n",
    "        self.y = []\n",
    "        self.z = []\n",
    "        pass\n",
    "    def TxtReader(self):\n",
    "        fname = self.pavadinimas\n",
    "        f = open(fname, mode='r', encoding='utf-8')\n",
    "        tekstas = f.readlines()\n",
    "        print(tekstas)\n",
    "        f.close()\n",
    "\n",
    "        for x in tekstas:\n",
    "            self.x.append(float(x.split(self.skirt)[0]))\n",
    "            self.y.append(float(x.split(self.skirt)[1]))\n",
    "            self.z.append(float(x.split(self.skirt)[2]))\n",
    "        print(self.x)\n",
    "        print(self.y)\n",
    "        print(self.z)\n",
    "\n",
    "    def getVidurkis(self):\n",
    "        vidurkisX = sum(self.x)/len(self.x)\n",
    "        vidurkisY = sum(self.y)/len(self.y)\n",
    "        vidurkisZ = sum(self.z)/len(self.z)\n",
    "        \n",
    "        return vidurkisX, vidurkisY, vidurkisZ\n",
    "    \n",
    "    def getMinimali(self):\n",
    "        minimaliX = min(self.x)\n",
    "        minimaliY = min(self.y)\n",
    "        minimaliZ = min(self.z)\n",
    "        return minimaliX, minimaliY, minimaliZ\n",
    "    \n",
    "    def getMax(self):\n",
    "        minimaliX = max(self.x)\n",
    "        minimaliY = max(self.y)\n",
    "        minimaliZ = max(self.z)\n",
    "        return minimaliX, minimaliY, minimaliZ\n",
    "\n",
    "\n",
    "z = TxtAnalyzer('data0.txt',';')\n",
    "z.TxtReader()\n",
    "print(z.getVidurkis())\n",
    "print(z.getMinimali())\n",
    "print(z.getMax())"
   ]
  },
  {
   "cell_type": "code",
   "execution_count": 6,
   "metadata": {},
   "outputs": [
    {
     "name": "stdout",
     "output_type": "stream",
     "text": [
      "X: \n",
      "Ave: 51.47\n",
      "Min: 0.0\n",
      "Max: 99.0\n",
      "\n",
      "Y: \n",
      "Ave: 0.546122\n",
      "Min: 0.0196\n",
      "Max: 0.9966\n",
      "\n",
      "Z: \n",
      "Ave: 27.091621\n",
      "Min: 0.0\n",
      "Max: 86.4277\n"
     ]
    }
   ],
   "source": [
    "class TxtAnalyzer:\n",
    "    def __init__(self, fileName, dell=';'):\n",
    "        self.fileName = fileName\n",
    "        self.dell = dell\n",
    "        self.X, self.Y, self.Z = self.readFile()\n",
    "    def readFile(self):\n",
    "        X, Y, Z = [], [], []\n",
    "        try:\n",
    "             with open(self.fileName, 'r') as file:\n",
    "                for line in file:\n",
    "                    values = line.strip().split(self.dell)\n",
    "                    if len(values) == 3:\n",
    "                        X.append(float(values[0]))\n",
    "                        Y.append(float(values[1]))\n",
    "                        Z.append(float(values[2]))\n",
    "        except FileNotFoundError:\n",
    "            print(\"File not found!\")\n",
    "        return X, Y, Z\n",
    "    def Ave(self, data):\n",
    "        if data:\n",
    "            return sum(data)/len(data)\n",
    "        else:\n",
    "            return None\n",
    "    def Min(self, data):\n",
    "        if data:\n",
    "            return min(data)\n",
    "        else:\n",
    "            return None\n",
    "    def Max(self, data):\n",
    "        if data:\n",
    "            return max(data)\n",
    "        else:\n",
    "            return None\n",
    "\n",
    "fileName = \"data0.txt\"  \n",
    "analyzer = TxtAnalyzer(fileName)\n",
    "print(\"X: \")\n",
    "print(\"Ave:\", analyzer.Ave(analyzer.X))\n",
    "print(\"Min:\", analyzer.Min(analyzer.X))\n",
    "print(\"Max:\", analyzer.Max(analyzer.X))\n",
    "print(\"\\nY: \")\n",
    "print(\"Ave:\", analyzer.Ave(analyzer.Y))\n",
    "print(\"Min:\", analyzer.Min(analyzer.Y))\n",
    "print(\"Max:\", analyzer.Max(analyzer.Y))\n",
    "print(\"\\nZ: \")\n",
    "print(\"Ave:\", analyzer.Ave(analyzer.Z))\n",
    "print(\"Min:\", analyzer.Min(analyzer.Z))\n",
    "print(\"Max:\", analyzer.Max(analyzer.Z))"
   ]
  },
  {
   "cell_type": "code",
   "execution_count": null,
   "metadata": {},
   "outputs": [],
   "source": [
    "# Numpy modulis!!!!!!!!!!!!!!!!!!"
   ]
  },
  {
   "cell_type": "code",
   "execution_count": 8,
   "metadata": {},
   "outputs": [
    {
     "name": "stdout",
     "output_type": "stream",
     "text": [
      "[0.25, 1.25, 2.25, 3.25, 4.25]\n"
     ]
    }
   ],
   "source": [
    "x = [1,2,3,4,5]\n",
    "naujas_x = []\n",
    "for skaicius in x:\n",
    "    naujas_x.append(skaicius-0.75)\n",
    "print(naujas_x)"
   ]
  },
  {
   "cell_type": "code",
   "execution_count": 9,
   "metadata": {},
   "outputs": [
    {
     "name": "stdout",
     "output_type": "stream",
     "text": [
      "[0.25, 1.25, 2.25, 3.25, 4.25]\n"
     ]
    }
   ],
   "source": [
    "x = [1,2,3,4,5]\n",
    "y = [i-0.75 for i in x]\n",
    "print(y)"
   ]
  },
  {
   "cell_type": "code",
   "execution_count": 11,
   "metadata": {},
   "outputs": [],
   "source": [
    "import numpy as np"
   ]
  },
  {
   "cell_type": "code",
   "execution_count": 14,
   "metadata": {},
   "outputs": [
    {
     "name": "stdout",
     "output_type": "stream",
     "text": [
      "[0 2 4 6 8]\n",
      "<class 'numpy.ndarray'>\n"
     ]
    }
   ],
   "source": [
    "#array\n",
    "x= np.arange(0,10 , 2)\n",
    "print(x)\n",
    "print(type(x))"
   ]
  },
  {
   "cell_type": "code",
   "execution_count": 15,
   "metadata": {},
   "outputs": [
    {
     "name": "stdout",
     "output_type": "stream",
     "text": [
      "[-0.75  1.25  3.25  5.25  7.25]\n"
     ]
    }
   ],
   "source": [
    "y = x -0.75\n",
    "print(y)"
   ]
  },
  {
   "cell_type": "code",
   "execution_count": null,
   "metadata": {},
   "outputs": [],
   "source": [
    "np.average()\n",
    "np.min()\n",
    "np.mean()\n",
    "np.median()"
   ]
  },
  {
   "cell_type": "code",
   "execution_count": 16,
   "metadata": {},
   "outputs": [
    {
     "name": "stdout",
     "output_type": "stream",
     "text": [
      "[1, 2, 3, 4, 5, 6, 7, 8, 9, 10]\n"
     ]
    }
   ],
   "source": [
    "a_list = [i for i in range(1,11)]\n",
    "print(a_list)"
   ]
  },
  {
   "cell_type": "code",
   "execution_count": 18,
   "metadata": {},
   "outputs": [
    {
     "name": "stdout",
     "output_type": "stream",
     "text": [
      "[ 1.75  2.75  3.75  4.75  5.75  6.75  7.75  8.75  9.75 10.75]\n"
     ]
    }
   ],
   "source": [
    "a_array = np.asarray(a_list)\n",
    "print(a_array+0.75)"
   ]
  },
  {
   "cell_type": "code",
   "execution_count": 22,
   "metadata": {},
   "outputs": [
    {
     "name": "stdout",
     "output_type": "stream",
     "text": [
      "[ 1  8 15]\n"
     ]
    }
   ],
   "source": [
    "x = [1,2,3]\n",
    "y = [1,4,5]\n",
    "x_np = np.asarray(x)\n",
    "y_np = np.asarray(y)\n",
    "c = x_np *y_np\n",
    "print(c)"
   ]
  },
  {
   "cell_type": "code",
   "execution_count": 33,
   "metadata": {},
   "outputs": [
    {
     "ename": "UFuncTypeError",
     "evalue": "ufunc 'minimum' did not contain a loop with signature matching types (dtype('<U7'), dtype('<U7')) -> None",
     "output_type": "error",
     "traceback": [
      "\u001b[1;31m---------------------------------------------------------------------------\u001b[0m",
      "\u001b[1;31mUFuncTypeError\u001b[0m                            Traceback (most recent call last)",
      "Cell \u001b[1;32mIn[33], line 1\u001b[0m\n\u001b[1;32m----> 1\u001b[0m \u001b[43mnp\u001b[49m\u001b[38;5;241;43m.\u001b[39;49m\u001b[43mmin\u001b[49m\u001b[43m(\u001b[49m\u001b[43mx\u001b[49m\u001b[43m)\u001b[49m\n\u001b[0;32m      2\u001b[0m np\u001b[38;5;241m.\u001b[39mmax(y_np)\n",
      "File \u001b[1;32m~\\AppData\\Local\\Packages\\PythonSoftwareFoundation.Python.3.12_qbz5n2kfra8p0\\LocalCache\\local-packages\\Python312\\site-packages\\numpy\\core\\fromnumeric.py:2953\u001b[0m, in \u001b[0;36mmin\u001b[1;34m(a, axis, out, keepdims, initial, where)\u001b[0m\n\u001b[0;32m   2836\u001b[0m \u001b[38;5;129m@array_function_dispatch\u001b[39m(_min_dispatcher)\n\u001b[0;32m   2837\u001b[0m \u001b[38;5;28;01mdef\u001b[39;00m \u001b[38;5;21mmin\u001b[39m(a, axis\u001b[38;5;241m=\u001b[39m\u001b[38;5;28;01mNone\u001b[39;00m, out\u001b[38;5;241m=\u001b[39m\u001b[38;5;28;01mNone\u001b[39;00m, keepdims\u001b[38;5;241m=\u001b[39mnp\u001b[38;5;241m.\u001b[39m_NoValue, initial\u001b[38;5;241m=\u001b[39mnp\u001b[38;5;241m.\u001b[39m_NoValue,\n\u001b[0;32m   2838\u001b[0m         where\u001b[38;5;241m=\u001b[39mnp\u001b[38;5;241m.\u001b[39m_NoValue):\n\u001b[0;32m   2839\u001b[0m \u001b[38;5;250m    \u001b[39m\u001b[38;5;124;03m\"\"\"\u001b[39;00m\n\u001b[0;32m   2840\u001b[0m \u001b[38;5;124;03m    Return the minimum of an array or minimum along an axis.\u001b[39;00m\n\u001b[0;32m   2841\u001b[0m \n\u001b[1;32m   (...)\u001b[0m\n\u001b[0;32m   2951\u001b[0m \u001b[38;5;124;03m    6\u001b[39;00m\n\u001b[0;32m   2952\u001b[0m \u001b[38;5;124;03m    \"\"\"\u001b[39;00m\n\u001b[1;32m-> 2953\u001b[0m     \u001b[38;5;28;01mreturn\u001b[39;00m \u001b[43m_wrapreduction\u001b[49m\u001b[43m(\u001b[49m\u001b[43ma\u001b[49m\u001b[43m,\u001b[49m\u001b[43m \u001b[49m\u001b[43mnp\u001b[49m\u001b[38;5;241;43m.\u001b[39;49m\u001b[43mminimum\u001b[49m\u001b[43m,\u001b[49m\u001b[43m \u001b[49m\u001b[38;5;124;43m'\u001b[39;49m\u001b[38;5;124;43mmin\u001b[39;49m\u001b[38;5;124;43m'\u001b[39;49m\u001b[43m,\u001b[49m\u001b[43m \u001b[49m\u001b[43maxis\u001b[49m\u001b[43m,\u001b[49m\u001b[43m \u001b[49m\u001b[38;5;28;43;01mNone\u001b[39;49;00m\u001b[43m,\u001b[49m\u001b[43m \u001b[49m\u001b[43mout\u001b[49m\u001b[43m,\u001b[49m\n\u001b[0;32m   2954\u001b[0m \u001b[43m                          \u001b[49m\u001b[43mkeepdims\u001b[49m\u001b[38;5;241;43m=\u001b[39;49m\u001b[43mkeepdims\u001b[49m\u001b[43m,\u001b[49m\u001b[43m \u001b[49m\u001b[43minitial\u001b[49m\u001b[38;5;241;43m=\u001b[39;49m\u001b[43minitial\u001b[49m\u001b[43m,\u001b[49m\u001b[43m \u001b[49m\u001b[43mwhere\u001b[49m\u001b[38;5;241;43m=\u001b[39;49m\u001b[43mwhere\u001b[49m\u001b[43m)\u001b[49m\n",
      "File \u001b[1;32m~\\AppData\\Local\\Packages\\PythonSoftwareFoundation.Python.3.12_qbz5n2kfra8p0\\LocalCache\\local-packages\\Python312\\site-packages\\numpy\\core\\fromnumeric.py:88\u001b[0m, in \u001b[0;36m_wrapreduction\u001b[1;34m(obj, ufunc, method, axis, dtype, out, **kwargs)\u001b[0m\n\u001b[0;32m     85\u001b[0m         \u001b[38;5;28;01melse\u001b[39;00m:\n\u001b[0;32m     86\u001b[0m             \u001b[38;5;28;01mreturn\u001b[39;00m reduction(axis\u001b[38;5;241m=\u001b[39maxis, out\u001b[38;5;241m=\u001b[39mout, \u001b[38;5;241m*\u001b[39m\u001b[38;5;241m*\u001b[39mpasskwargs)\n\u001b[1;32m---> 88\u001b[0m \u001b[38;5;28;01mreturn\u001b[39;00m \u001b[43mufunc\u001b[49m\u001b[38;5;241;43m.\u001b[39;49m\u001b[43mreduce\u001b[49m\u001b[43m(\u001b[49m\u001b[43mobj\u001b[49m\u001b[43m,\u001b[49m\u001b[43m \u001b[49m\u001b[43maxis\u001b[49m\u001b[43m,\u001b[49m\u001b[43m \u001b[49m\u001b[43mdtype\u001b[49m\u001b[43m,\u001b[49m\u001b[43m \u001b[49m\u001b[43mout\u001b[49m\u001b[43m,\u001b[49m\u001b[43m \u001b[49m\u001b[38;5;241;43m*\u001b[39;49m\u001b[38;5;241;43m*\u001b[39;49m\u001b[43mpasskwargs\u001b[49m\u001b[43m)\u001b[49m\n",
      "\u001b[1;31mUFuncTypeError\u001b[0m: ufunc 'minimum' did not contain a loop with signature matching types (dtype('<U7'), dtype('<U7')) -> None"
     ]
    }
   ],
   "source": [
    "np.min(x)\n",
    "np.max(y_np)"
   ]
  },
  {
   "cell_type": "code",
   "execution_count": 29,
   "metadata": {},
   "outputs": [
    {
     "name": "stdout",
     "output_type": "stream",
     "text": [
      "[3 5 3 1 9 1 2 0 1 7 7 9 8 7 5 7 2 6 6 9 9 6 2 2 7 5 4 5 0 9 5 4 9 0 4 5 0\n",
      " 3 8 9 2 5 7 6 1 8 9 9 3 1 4 4 2 9 1 1 8 4 8 6 6 2 7 3 0 9 0 7 3 7 7 0 3 1\n",
      " 4 1 2 8 2 3 3 6 0 1 0 5 1 9 2 4 6 1 7 3 7 9 2 9 3 0]\n"
     ]
    }
   ],
   "source": [
    "atsitiktinis = np.random.randint(0,10, 100)   #tarp nulio ir 10 ,100 elementu  \"randint\"\n",
    "print(atsitiktinis)"
   ]
  },
  {
   "cell_type": "code",
   "execution_count": 31,
   "metadata": {},
   "outputs": [
    {
     "name": "stdout",
     "output_type": "stream",
     "text": [
      "[0.26257136 0.85735486 0.9259065  0.13570246 0.2231185  0.26747188\n",
      " 0.87533785 0.95234806 0.19354583 0.18438547 0.38989658 0.57709314\n",
      " 0.85736647 0.68728506 0.09077534 0.48001295 0.72011314 0.72158222\n",
      " 0.101736   0.76712855 0.16185237 0.94426309 0.30147913 0.19164662\n",
      " 0.63414045 0.35411762 0.82406692 0.65202976 0.11806442 0.63661799\n",
      " 0.52047273 0.40370466 0.14787596 0.9930691  0.04430703 0.35506781\n",
      " 0.21651611 0.32082333 0.73967096 0.71672872 0.28175094 0.74045259\n",
      " 0.95498203 0.67042563 0.12463103 0.67980191 0.88608058 0.55699241\n",
      " 0.26476967 0.67819777 0.78409266 0.61441307 0.20088877 0.03223993\n",
      " 0.6915563  0.93131672 0.70222297 0.67650179 0.64701636 0.46123818\n",
      " 0.61726325 0.54566033 0.51002929 0.87333069 0.4773527  0.22006258\n",
      " 0.5515681  0.33539416 0.25539655 0.62078891 0.74410277 0.28160264\n",
      " 0.57569567 0.34210733 0.2819279  0.12959132 0.52641348 0.09866581\n",
      " 0.16973943 0.07110138 0.63379211 0.1102569  0.27374128 0.39397064\n",
      " 0.08668035 0.972375   0.30317876 0.50857451 0.89014389 0.58599707\n",
      " 0.07800758 0.02145801 0.44015933 0.33270083 0.09157526 0.83098533\n",
      " 0.40923242 0.8274348  0.9962779  0.24428312]\n"
     ]
    }
   ],
   "source": [
    "atsitiktinis_float = np.random.rand(100)    #atstiktiniai skaiciai 0-1 \"rand\"\n",
    "print(atsitiktinis_float)"
   ]
  },
  {
   "cell_type": "code",
   "execution_count": 36,
   "metadata": {},
   "outputs": [
    {
     "name": "stdout",
     "output_type": "stream",
     "text": [
      "4.86\n",
      "4.86\n"
     ]
    }
   ],
   "source": [
    "xas = np.random.randint(1,10,100)\n",
    "svoriai = np.random.rand(100)\n",
    "# mean ir average\n",
    "vidurkis = np.mean(xas)\n",
    "print(vidurkis)\n",
    "sv_vid = np.average(xas)\n",
    "print(sv_vid)"
   ]
  },
  {
   "cell_type": "code",
   "execution_count": 44,
   "metadata": {},
   "outputs": [
    {
     "name": "stdout",
     "output_type": "stream",
     "text": [
      "4.84\n",
      "5.009721639959886\n",
      "5.0 1 9\n"
     ]
    }
   ],
   "source": [
    "xas = np.random.randint(1,10,100)\n",
    "svoriai = np.random.rand(100)\n",
    "# mean ir average\n",
    "vidurkis = np.mean(xas)\n",
    "print(vidurkis)\n",
    "sv_vid = np.average(xas,weights=svoriai)\n",
    "print(sv_vid)\n",
    "\n",
    "\n",
    "#median()\n",
    "medx = np.median(xas)\n",
    "print(medx, np.min(xas) , np.max(xas))"
   ]
  },
  {
   "cell_type": "code",
   "execution_count": 48,
   "metadata": {},
   "outputs": [
    {
     "name": "stdout",
     "output_type": "stream",
     "text": [
      "[ 1.  2.  3.  4.  5.  6.  7.  8.  9. 10.]\n"
     ]
    }
   ],
   "source": [
    "l = np.linspace(1,10, 10)     #nuo 1 iki 10 ,10 skaiciu\n",
    "print(l)"
   ]
  },
  {
   "cell_type": "code",
   "execution_count": 49,
   "metadata": {},
   "outputs": [
    {
     "name": "stdout",
     "output_type": "stream",
     "text": [
      "[1.  1.9 2.8 3.7 4.6 5.5 6.4 7.3 8.2 9.1]\n"
     ]
    }
   ],
   "source": [
    "l = np.linspace(1,10, 10,endpoint=False)     #\n",
    "print(l)"
   ]
  },
  {
   "cell_type": "code",
   "execution_count": 51,
   "metadata": {},
   "outputs": [
    {
     "name": "stdout",
     "output_type": "stream",
     "text": [
      "[ 0.          0.71428571  1.42857143  2.14285714  2.85714286  3.57142857\n",
      "  4.28571429  5.          5.71428571  6.42857143  7.14285714  7.85714286\n",
      "  8.57142857  9.28571429 10.        ]\n"
     ]
    }
   ],
   "source": [
    "l = np.linspace(0,10, 15)     #vienodu atstumu 15 skaiciu nuo 1-10\n",
    "print(l)"
   ]
  },
  {
   "cell_type": "code",
   "execution_count": 57,
   "metadata": {},
   "outputs": [
    {
     "name": "stdout",
     "output_type": "stream",
     "text": [
      "0\n",
      "4.5\n",
      "9\n"
     ]
    }
   ],
   "source": [
    "#assrray , arange , min ,max ,mean , average, median\n",
    "n_np = np.arange(0,10)\n",
    "#kaip metodai:\n",
    "minn = n_np.min()\n",
    "print(minn)\n",
    "print(n_np.mean())\n",
    "print(n_np.max())\n"
   ]
  },
  {
   "cell_type": "code",
   "execution_count": 85,
   "metadata": {},
   "outputs": [],
   "source": [
    "# %load_ext autoreload\n",
    "%autoreload 2\n",
    "import modulis"
   ]
  },
  {
   "cell_type": "code",
   "execution_count": 86,
   "metadata": {},
   "outputs": [
    {
     "name": "stdout",
     "output_type": "stream",
     "text": [
      "70\n"
     ]
    }
   ],
   "source": [
    "print(modulis.A)"
   ]
  },
  {
   "cell_type": "code",
   "execution_count": 87,
   "metadata": {},
   "outputs": [
    {
     "name": "stdout",
     "output_type": "stream",
     "text": [
      "As esu nauja printA() funkcija\n",
      "Dar vienas pakeitimas pypupypu\n"
     ]
    }
   ],
   "source": [
    "modulis.printA()"
   ]
  },
  {
   "cell_type": "code",
   "execution_count": 102,
   "metadata": {},
   "outputs": [],
   "source": [
    "# iškelkite savo anksčiau rašytas Vehicle, Car, etc klases į modulį\n",
    "# ir patikrinkite klasių veikimą\n",
    "# sukurdami kintamuosius ir patikrindami jų veikimą\n",
    "\n",
    "%autoreload 2\n",
    "import modulis\n"
   ]
  },
  {
   "cell_type": "code",
   "execution_count": 104,
   "metadata": {},
   "outputs": [
    {
     "name": "stdout",
     "output_type": "stream",
     "text": [
      "4\n",
      "45\n",
      "43\n"
     ]
    }
   ],
   "source": [
    "# iškelkite savo anksčiau rašytas Vehicle, Car, etc klases į modulį\n",
    "# ir patikrinkite klasių veikimą\n",
    "# sukurdami kintamuosius ir patikrindami jų veikimą\n",
    "\n",
    "test = modulis.Car(pavadinimas= \"pavadinimas\" , rida = 5000 , seats=4)\n",
    "print(test.getSeats())\n",
    "\n",
    "test = modulis.Bus(pavadinimas= \"pavadinimas\" , rida = 5000 , seats=45)\n",
    "print(test.getSeats())\n",
    "\n",
    "test = modulis.Train(pavadinimas= \"pavadinimas\" , rida = 5000 , seats=43)\n",
    "print(test.getSeats())\n"
   ]
  },
  {
   "cell_type": "code",
   "execution_count": null,
   "metadata": {},
   "outputs": [],
   "source": [
    "#sukurkite failus nuskaitančią klasę, ji turi būti aprašyta jūsų kuriamame modulyje;\n",
    "#ta klasė turi nuskaityti pateiktą failą, ir suskaidyti stulpelius į sąrašus:\n",
    "#sąrašai I, U, j, P, duomenys iš juos iš atitinkamų taip pat pavadintų stulpelių\n",
    "#realizuokite tai, jog klasė rastų tokį dydį - maksimalų P, suskaičiuotų tokį dydį pce = Pmax / 1000 * 100%;\n",
    "#šie dydžiai turi būti pasiekiamį arba kaip atributas, arba galite įdėti metodą jam gauti\n"
   ]
  },
  {
   "cell_type": "code",
   "execution_count": 108,
   "metadata": {},
   "outputs": [
    {
     "data": {
      "text/plain": [
       "2.4974205000000005"
      ]
     },
     "execution_count": 108,
     "metadata": {},
     "output_type": "execute_result"
    }
   ],
   "source": [
    "import modulis\n",
    "\n",
    "\n",
    "kintamasis = modulis.Txtreader(\"REF_D_1k_FW_2.05.dat\")\n",
    "kintamasis.skaitytojas()\n",
    "kintamasis.maksimalusP()\n",
    "kintamasis.pce()\n"
   ]
  },
  {
   "cell_type": "code",
   "execution_count": null,
   "metadata": {},
   "outputs": [],
   "source": []
  },
  {
   "cell_type": "code",
   "execution_count": 109,
   "metadata": {},
   "outputs": [
    {
     "name": "stdout",
     "output_type": "stream",
     "text": [
      "1.63\n"
     ]
    }
   ],
   "source": [
    "#Rasa uzjudejo su __Datareader\n",
    "\n",
    "class keturiolika_failu():\n",
    "    def __init__(self, Pavadinimas, Skirtukas):\n",
    "        self.Pavadinimas = Pavadinimas\n",
    "        self.Skirtukas = Skirtukas\n",
    "        self.I = []\n",
    "        self.U = []\n",
    "        self.j = []\n",
    "        self.p = []\n",
    "        self.__dataReader() # kreipiasi i dataReader; __ padar privaciu ir naudojami tik klases viduje\n",
    "    def __dataReader(self):\n",
    "        fname = self.Pavadinimas\n",
    "        file = open(fname, mode='r', encoding= 'utf-8')\n",
    "        sarasas = file.readlines()\n",
    "        file.close()\n",
    "        for eilute in sarasas[1::]:\n",
    "            self.I.append(float(eilute.split(self.Skirtukas)[0]))\n",
    "            self.U.append(float(eilute.split(self.Skirtukas)[1]))           \n",
    "            self.j.append(float(eilute.split(self.Skirtukas)[2]))\n",
    "            self.p.append(float(eilute.split(self.Skirtukas)[3].replace('\\n', '')))\n",
    "    def getPmax(self):\n",
    "        Pmax = (max(self.p))\n",
    "        return Pmax\n",
    "    \n",
    "    def getPCE(self):\n",
    "        Pmax= self.getPmax()\n",
    "        PCE = round((Pmax / 1000 * 100),2)\n",
    "        return PCE\n",
    "    \n",
    "sarasas = keturiolika_failu('REF_D_5k_FW_2.03.dat',';')\n",
    "# sarasas.__dataReader()\n",
    "print(sarasas.getPCE())"
   ]
  },
  {
   "cell_type": "code",
   "execution_count": 112,
   "metadata": {},
   "outputs": [],
   "source": [
    "import pandas as pd"
   ]
  },
  {
   "cell_type": "code",
   "execution_count": 111,
   "metadata": {},
   "outputs": [
    {
     "name": "stdout",
     "output_type": "stream",
     "text": [
      "Defaulting to user installation because normal site-packages is not writeableNote: you may need to restart the kernel to use updated packages.\n",
      "\n",
      "Collecting pandas\n",
      "  Using cached pandas-2.2.1-cp312-cp312-win_amd64.whl.metadata (19 kB)\n",
      "Requirement already satisfied: numpy<2,>=1.26.0 in c:\\users\\itwork\\appdata\\local\\packages\\pythonsoftwarefoundation.python.3.12_qbz5n2kfra8p0\\localcache\\local-packages\\python312\\site-packages (from pandas) (1.26.4)\n",
      "Requirement already satisfied: python-dateutil>=2.8.2 in c:\\users\\itwork\\appdata\\local\\packages\\pythonsoftwarefoundation.python.3.12_qbz5n2kfra8p0\\localcache\\local-packages\\python312\\site-packages (from pandas) (2.9.0.post0)\n",
      "Collecting pytz>=2020.1 (from pandas)\n",
      "  Downloading pytz-2024.1-py2.py3-none-any.whl.metadata (22 kB)\n",
      "Collecting tzdata>=2022.7 (from pandas)\n",
      "  Downloading tzdata-2024.1-py2.py3-none-any.whl.metadata (1.4 kB)\n",
      "Requirement already satisfied: six>=1.5 in c:\\users\\itwork\\appdata\\local\\packages\\pythonsoftwarefoundation.python.3.12_qbz5n2kfra8p0\\localcache\\local-packages\\python312\\site-packages (from python-dateutil>=2.8.2->pandas) (1.16.0)\n",
      "Downloading pandas-2.2.1-cp312-cp312-win_amd64.whl (11.5 MB)\n",
      "   ---------------------------------------- 0.0/11.5 MB ? eta -:--:--\n",
      "   ---------------------------------------- 0.1/11.5 MB 2.6 MB/s eta 0:00:05\n",
      "   - -------------------------------------- 0.3/11.5 MB 4.6 MB/s eta 0:00:03\n",
      "   - -------------------------------------- 0.5/11.5 MB 4.1 MB/s eta 0:00:03\n",
      "   -- ------------------------------------- 0.6/11.5 MB 3.3 MB/s eta 0:00:04\n",
      "   -- ------------------------------------- 0.7/11.5 MB 3.2 MB/s eta 0:00:04\n",
      "   -- ------------------------------------- 0.8/11.5 MB 2.9 MB/s eta 0:00:04\n",
      "   -- ------------------------------------- 0.9/11.5 MB 2.7 MB/s eta 0:00:04\n",
      "   --- ------------------------------------ 0.9/11.5 MB 2.6 MB/s eta 0:00:05\n",
      "   --- ------------------------------------ 1.0/11.5 MB 2.4 MB/s eta 0:00:05\n",
      "   --- ------------------------------------ 1.0/11.5 MB 2.3 MB/s eta 0:00:05\n",
      "   --- ------------------------------------ 1.1/11.5 MB 2.2 MB/s eta 0:00:05\n",
      "   --- ------------------------------------ 1.1/11.5 MB 2.1 MB/s eta 0:00:06\n",
      "   --- ------------------------------------ 1.1/11.5 MB 2.0 MB/s eta 0:00:06\n",
      "   ---- ----------------------------------- 1.2/11.5 MB 1.8 MB/s eta 0:00:06\n",
      "   ---- ----------------------------------- 1.2/11.5 MB 1.8 MB/s eta 0:00:06\n",
      "   ---- ----------------------------------- 1.2/11.5 MB 1.7 MB/s eta 0:00:07\n",
      "   ---- ----------------------------------- 1.3/11.5 MB 1.6 MB/s eta 0:00:07\n",
      "   ---- ----------------------------------- 1.3/11.5 MB 1.6 MB/s eta 0:00:07\n",
      "   ---- ----------------------------------- 1.3/11.5 MB 1.5 MB/s eta 0:00:07\n",
      "   ---- ----------------------------------- 1.3/11.5 MB 1.4 MB/s eta 0:00:08\n",
      "   ---- ----------------------------------- 1.3/11.5 MB 1.4 MB/s eta 0:00:08\n",
      "   ---- ----------------------------------- 1.4/11.5 MB 1.4 MB/s eta 0:00:08\n",
      "   ---- ----------------------------------- 1.4/11.5 MB 1.3 MB/s eta 0:00:08\n",
      "   ---- ----------------------------------- 1.4/11.5 MB 1.3 MB/s eta 0:00:08\n",
      "   ---- ----------------------------------- 1.4/11.5 MB 1.2 MB/s eta 0:00:09\n",
      "   ----- ---------------------------------- 1.4/11.5 MB 1.2 MB/s eta 0:00:09\n",
      "   ----- ---------------------------------- 1.5/11.5 MB 1.2 MB/s eta 0:00:09\n",
      "   ----- ---------------------------------- 1.5/11.5 MB 1.2 MB/s eta 0:00:09\n",
      "   ----- ---------------------------------- 1.5/11.5 MB 1.1 MB/s eta 0:00:09\n",
      "   ----- ---------------------------------- 1.5/11.5 MB 1.1 MB/s eta 0:00:10\n",
      "   ----- ---------------------------------- 1.5/11.5 MB 1.1 MB/s eta 0:00:10\n",
      "   ----- ---------------------------------- 1.5/11.5 MB 1.1 MB/s eta 0:00:10\n",
      "   ----- ---------------------------------- 1.6/11.5 MB 1.0 MB/s eta 0:00:10\n",
      "   ----- ---------------------------------- 1.6/11.5 MB 1.0 MB/s eta 0:00:10\n",
      "   ----- ---------------------------------- 1.6/11.5 MB 995.7 kB/s eta 0:00:10\n",
      "   ----- ---------------------------------- 1.6/11.5 MB 976.4 kB/s eta 0:00:11\n",
      "   ----- ---------------------------------- 1.6/11.5 MB 964.5 kB/s eta 0:00:11\n",
      "   ----- ---------------------------------- 1.7/11.5 MB 967.5 kB/s eta 0:00:11\n",
      "   ----- ---------------------------------- 1.7/11.5 MB 942.4 kB/s eta 0:00:11\n",
      "   ----- ---------------------------------- 1.7/11.5 MB 937.6 kB/s eta 0:00:11\n",
      "   ------ --------------------------------- 1.7/11.5 MB 915.2 kB/s eta 0:00:11\n",
      "   ------ --------------------------------- 1.8/11.5 MB 911.0 kB/s eta 0:00:11\n",
      "   ------ --------------------------------- 1.8/11.5 MB 908.8 kB/s eta 0:00:11\n",
      "   ------ --------------------------------- 1.8/11.5 MB 888.9 kB/s eta 0:00:11\n",
      "   ------ --------------------------------- 1.8/11.5 MB 888.5 kB/s eta 0:00:11\n",
      "   ------ --------------------------------- 1.9/11.5 MB 890.0 kB/s eta 0:00:11\n",
      "   ------ --------------------------------- 1.9/11.5 MB 878.3 kB/s eta 0:00:11\n",
      "   ------ --------------------------------- 1.9/11.5 MB 875.2 kB/s eta 0:00:11\n",
      "   ------ --------------------------------- 2.0/11.5 MB 864.7 kB/s eta 0:00:12\n",
      "   ------ --------------------------------- 2.0/11.5 MB 857.1 kB/s eta 0:00:12\n",
      "   ------ --------------------------------- 2.0/11.5 MB 854.4 kB/s eta 0:00:12\n",
      "   ------- -------------------------------- 2.0/11.5 MB 843.7 kB/s eta 0:00:12\n",
      "   ------- -------------------------------- 2.0/11.5 MB 835.8 kB/s eta 0:00:12\n",
      "   ------- -------------------------------- 2.1/11.5 MB 824.1 kB/s eta 0:00:12\n",
      "   ------- -------------------------------- 2.1/11.5 MB 816.9 kB/s eta 0:00:12\n",
      "   ------- -------------------------------- 2.1/11.5 MB 815.0 kB/s eta 0:00:12\n",
      "   ------- -------------------------------- 2.1/11.5 MB 804.3 kB/s eta 0:00:12\n",
      "   ------- -------------------------------- 2.1/11.5 MB 802.6 kB/s eta 0:00:12\n",
      "   ------- -------------------------------- 2.2/11.5 MB 795.3 kB/s eta 0:00:12\n",
      "   ------- -------------------------------- 2.2/11.5 MB 789.4 kB/s eta 0:00:12\n",
      "   ------- -------------------------------- 2.2/11.5 MB 784.0 kB/s eta 0:00:12\n",
      "   ------- -------------------------------- 2.2/11.5 MB 777.7 kB/s eta 0:00:12\n",
      "   ------- -------------------------------- 2.2/11.5 MB 772.2 kB/s eta 0:00:12\n",
      "   ------- -------------------------------- 2.3/11.5 MB 762.6 kB/s eta 0:00:13\n",
      "   ------- -------------------------------- 2.3/11.5 MB 754.3 kB/s eta 0:00:13\n",
      "   ------- -------------------------------- 2.3/11.5 MB 749.4 kB/s eta 0:00:13\n",
      "   -------- ------------------------------- 2.3/11.5 MB 745.0 kB/s eta 0:00:13\n",
      "   -------- ------------------------------- 2.3/11.5 MB 744.1 kB/s eta 0:00:13\n",
      "   -------- ------------------------------- 2.4/11.5 MB 735.6 kB/s eta 0:00:13\n",
      "   -------- ------------------------------- 2.4/11.5 MB 734.8 kB/s eta 0:00:13\n",
      "   -------- ------------------------------- 2.4/11.5 MB 733.7 kB/s eta 0:00:13\n",
      "   -------- ------------------------------- 2.4/11.5 MB 729.0 kB/s eta 0:00:13\n",
      "   -------- ------------------------------- 2.5/11.5 MB 725.1 kB/s eta 0:00:13\n",
      "   -------- ------------------------------- 2.5/11.5 MB 721.3 kB/s eta 0:00:13\n",
      "   -------- ------------------------------- 2.5/11.5 MB 723.4 kB/s eta 0:00:13\n",
      "   -------- ------------------------------- 2.5/11.5 MB 719.9 kB/s eta 0:00:13\n",
      "   -------- ------------------------------- 2.5/11.5 MB 716.5 kB/s eta 0:00:13\n",
      "   -------- ------------------------------- 2.5/11.5 MB 712.7 kB/s eta 0:00:13\n",
      "   -------- ------------------------------- 2.6/11.5 MB 703.4 kB/s eta 0:00:13\n",
      "   -------- ------------------------------- 2.6/11.5 MB 696.9 kB/s eta 0:00:13\n",
      "   --------- ------------------------------ 2.6/11.5 MB 693.6 kB/s eta 0:00:13\n",
      "   --------- ------------------------------ 2.6/11.5 MB 687.7 kB/s eta 0:00:13\n",
      "   --------- ------------------------------ 2.6/11.5 MB 684.6 kB/s eta 0:00:13\n",
      "   --------- ------------------------------ 2.7/11.5 MB 681.6 kB/s eta 0:00:13\n",
      "   --------- ------------------------------ 2.7/11.5 MB 681.6 kB/s eta 0:00:13\n",
      "   --------- ------------------------------ 2.7/11.5 MB 678.5 kB/s eta 0:00:13\n",
      "   --------- ------------------------------ 2.7/11.5 MB 675.8 kB/s eta 0:00:13\n",
      "   --------- ------------------------------ 2.7/11.5 MB 672.9 kB/s eta 0:00:13\n",
      "   --------- ------------------------------ 2.8/11.5 MB 670.2 kB/s eta 0:00:14\n",
      "   --------- ------------------------------ 2.8/11.5 MB 670.0 kB/s eta 0:00:13\n",
      "   --------- ------------------------------ 2.8/11.5 MB 662.6 kB/s eta 0:00:14\n",
      "   --------- ------------------------------ 2.8/11.5 MB 662.6 kB/s eta 0:00:14\n",
      "   --------- ------------------------------ 2.9/11.5 MB 662.5 kB/s eta 0:00:14\n",
      "   ---------- ----------------------------- 2.9/11.5 MB 662.4 kB/s eta 0:00:13\n",
      "   ---------- ----------------------------- 2.9/11.5 MB 664.6 kB/s eta 0:00:13\n",
      "   ---------- ----------------------------- 2.9/11.5 MB 662.3 kB/s eta 0:00:13\n",
      "   ---------- ----------------------------- 3.0/11.5 MB 659.8 kB/s eta 0:00:13\n",
      "   ---------- ----------------------------- 3.0/11.5 MB 659.8 kB/s eta 0:00:13\n",
      "   ---------- ----------------------------- 3.0/11.5 MB 659.8 kB/s eta 0:00:13\n",
      "   ---------- ----------------------------- 3.1/11.5 MB 659.7 kB/s eta 0:00:13\n",
      "   ---------- ----------------------------- 3.1/11.5 MB 661.9 kB/s eta 0:00:13\n",
      "   ---------- ----------------------------- 3.1/11.5 MB 661.8 kB/s eta 0:00:13\n",
      "   ----------- ---------------------------- 3.2/11.5 MB 666.1 kB/s eta 0:00:13\n",
      "   ----------- ---------------------------- 3.2/11.5 MB 668.1 kB/s eta 0:00:13\n",
      "   ----------- ---------------------------- 3.3/11.5 MB 670.0 kB/s eta 0:00:13\n",
      "   ----------- ---------------------------- 3.3/11.5 MB 672.2 kB/s eta 0:00:13\n",
      "   ----------- ---------------------------- 3.3/11.5 MB 673.8 kB/s eta 0:00:13\n",
      "   ----------- ---------------------------- 3.4/11.5 MB 675.8 kB/s eta 0:00:12\n",
      "   ----------- ---------------------------- 3.4/11.5 MB 677.6 kB/s eta 0:00:12\n",
      "   ------------ --------------------------- 3.5/11.5 MB 677.4 kB/s eta 0:00:12\n",
      "   ------------ --------------------------- 3.5/11.5 MB 681.3 kB/s eta 0:00:12\n",
      "   ------------ --------------------------- 3.5/11.5 MB 683.1 kB/s eta 0:00:12\n",
      "   ------------ --------------------------- 3.6/11.5 MB 686.7 kB/s eta 0:00:12\n",
      "   ------------ --------------------------- 3.6/11.5 MB 690.3 kB/s eta 0:00:12\n",
      "   ------------ --------------------------- 3.7/11.5 MB 692.1 kB/s eta 0:00:12\n",
      "   ------------ --------------------------- 3.7/11.5 MB 695.6 kB/s eta 0:00:12\n",
      "   ------------- -------------------------- 3.8/11.5 MB 695.2 kB/s eta 0:00:12\n",
      "   ------------- -------------------------- 3.8/11.5 MB 696.6 kB/s eta 0:00:12\n",
      "   ------------- -------------------------- 3.9/11.5 MB 698.2 kB/s eta 0:00:11\n",
      "   ------------- -------------------------- 3.9/11.5 MB 701.5 kB/s eta 0:00:11\n",
      "   ------------- -------------------------- 4.0/11.5 MB 704.8 kB/s eta 0:00:11\n",
      "   ------------- -------------------------- 4.0/11.5 MB 704.6 kB/s eta 0:00:11\n",
      "   -------------- ------------------------- 4.0/11.5 MB 707.5 kB/s eta 0:00:11\n",
      "   -------------- ------------------------- 4.1/11.5 MB 707.1 kB/s eta 0:00:11\n",
      "   -------------- ------------------------- 4.1/11.5 MB 708.6 kB/s eta 0:00:11\n",
      "   -------------- ------------------------- 4.1/11.5 MB 709.7 kB/s eta 0:00:11\n",
      "   -------------- ------------------------- 4.2/11.5 MB 712.9 kB/s eta 0:00:11\n",
      "   -------------- ------------------------- 4.2/11.5 MB 712.4 kB/s eta 0:00:11\n",
      "   -------------- ------------------------- 4.3/11.5 MB 715.4 kB/s eta 0:00:11\n",
      "   --------------- ------------------------ 4.3/11.5 MB 714.9 kB/s eta 0:00:11\n",
      "   --------------- ------------------------ 4.3/11.5 MB 714.4 kB/s eta 0:00:10\n",
      "   --------------- ------------------------ 4.4/11.5 MB 714.0 kB/s eta 0:00:10\n",
      "   --------------- ------------------------ 4.4/11.5 MB 715.2 kB/s eta 0:00:10\n",
      "   --------------- ------------------------ 4.4/11.5 MB 714.7 kB/s eta 0:00:10\n",
      "   --------------- ------------------------ 4.5/11.5 MB 716.1 kB/s eta 0:00:10\n",
      "   --------------- ------------------------ 4.5/11.5 MB 718.9 kB/s eta 0:00:10\n",
      "   --------------- ------------------------ 4.6/11.5 MB 719.9 kB/s eta 0:00:10\n",
      "   ---------------- ----------------------- 4.6/11.5 MB 719.4 kB/s eta 0:00:10\n",
      "   ---------------- ----------------------- 4.6/11.5 MB 720.7 kB/s eta 0:00:10\n",
      "   ---------------- ----------------------- 4.7/11.5 MB 720.2 kB/s eta 0:00:10\n",
      "   ---------------- ----------------------- 4.7/11.5 MB 720.0 kB/s eta 0:00:10\n",
      "   ---------------- ----------------------- 4.7/11.5 MB 720.8 kB/s eta 0:00:10\n",
      "   ---------------- ----------------------- 4.8/11.5 MB 720.4 kB/s eta 0:00:10\n",
      "   ---------------- ----------------------- 4.8/11.5 MB 718.5 kB/s eta 0:00:10\n",
      "   ---------------- ----------------------- 4.8/11.5 MB 717.9 kB/s eta 0:00:10\n",
      "   ---------------- ----------------------- 4.9/11.5 MB 719.1 kB/s eta 0:00:10\n",
      "   ----------------- ---------------------- 4.9/11.5 MB 718.6 kB/s eta 0:00:10\n",
      "   ----------------- ---------------------- 4.9/11.5 MB 721.2 kB/s eta 0:00:10\n",
      "   ----------------- ---------------------- 5.0/11.5 MB 720.7 kB/s eta 0:00:10\n",
      "   ----------------- ---------------------- 5.0/11.5 MB 723.2 kB/s eta 0:00:09\n",
      "   ----------------- ---------------------- 5.1/11.5 MB 724.2 kB/s eta 0:00:09\n",
      "   ----------------- ---------------------- 5.1/11.5 MB 726.6 kB/s eta 0:00:09\n",
      "   ------------------ --------------------- 5.2/11.5 MB 729.1 kB/s eta 0:00:09\n",
      "   ------------------ --------------------- 5.2/11.5 MB 734.4 kB/s eta 0:00:09\n",
      "   ------------------ --------------------- 5.3/11.5 MB 735.3 kB/s eta 0:00:09\n",
      "   ------------------ --------------------- 5.4/11.5 MB 740.4 kB/s eta 0:00:09\n",
      "   ------------------ --------------------- 5.4/11.5 MB 744.1 kB/s eta 0:00:09\n",
      "   ------------------- -------------------- 5.5/11.5 MB 749.1 kB/s eta 0:00:08\n",
      "   ------------------- -------------------- 5.6/11.5 MB 754.1 kB/s eta 0:00:08\n",
      "   ------------------- -------------------- 5.6/11.5 MB 757.6 kB/s eta 0:00:08\n",
      "   ------------------- -------------------- 5.7/11.5 MB 763.8 kB/s eta 0:00:08\n",
      "   -------------------- ------------------- 5.8/11.5 MB 768.7 kB/s eta 0:00:08\n",
      "   -------------------- ------------------- 5.9/11.5 MB 774.8 kB/s eta 0:00:08\n",
      "   -------------------- ------------------- 5.9/11.5 MB 775.5 kB/s eta 0:00:08\n",
      "   -------------------- ------------------- 5.9/11.5 MB 778.9 kB/s eta 0:00:08\n",
      "   -------------------- ------------------- 6.0/11.5 MB 781.9 kB/s eta 0:00:07\n",
      "   --------------------- ------------------ 6.1/11.5 MB 782.7 kB/s eta 0:00:07\n",
      "   --------------------- ------------------ 6.1/11.5 MB 784.5 kB/s eta 0:00:07\n",
      "   --------------------- ------------------ 6.1/11.5 MB 783.5 kB/s eta 0:00:07\n",
      "   --------------------- ------------------ 6.2/11.5 MB 785.4 kB/s eta 0:00:07\n",
      "   --------------------- ------------------ 6.2/11.5 MB 784.6 kB/s eta 0:00:07\n",
      "   --------------------- ------------------ 6.3/11.5 MB 785.1 kB/s eta 0:00:07\n",
      "   --------------------- ------------------ 6.3/11.5 MB 785.9 kB/s eta 0:00:07\n",
      "   ---------------------- ----------------- 6.3/11.5 MB 785.1 kB/s eta 0:00:07\n",
      "   ---------------------- ----------------- 6.4/11.5 MB 785.4 kB/s eta 0:00:07\n",
      "   ---------------------- ----------------- 6.4/11.5 MB 785.2 kB/s eta 0:00:07\n",
      "   ---------------------- ----------------- 6.5/11.5 MB 786.3 kB/s eta 0:00:07\n",
      "   ---------------------- ----------------- 6.5/11.5 MB 784.6 kB/s eta 0:00:07\n",
      "   ---------------------- ----------------- 6.5/11.5 MB 785.1 kB/s eta 0:00:07\n",
      "   ---------------------- ----------------- 6.5/11.5 MB 783.4 kB/s eta 0:00:07\n",
      "   ---------------------- ----------------- 6.6/11.5 MB 781.3 kB/s eta 0:00:07\n",
      "   ---------------------- ----------------- 6.6/11.5 MB 780.8 kB/s eta 0:00:07\n",
      "   ----------------------- ---------------- 6.6/11.5 MB 778.7 kB/s eta 0:00:07\n",
      "   ----------------------- ---------------- 6.6/11.5 MB 778.0 kB/s eta 0:00:07\n",
      "   ----------------------- ---------------- 6.7/11.5 MB 776.1 kB/s eta 0:00:07\n",
      "   ----------------------- ---------------- 6.7/11.5 MB 775.7 kB/s eta 0:00:07\n",
      "   ----------------------- ---------------- 6.7/11.5 MB 773.6 kB/s eta 0:00:07\n",
      "   ----------------------- ---------------- 6.7/11.5 MB 772.0 kB/s eta 0:00:07\n",
      "   ----------------------- ---------------- 6.8/11.5 MB 772.5 kB/s eta 0:00:07\n",
      "   ----------------------- ---------------- 6.8/11.5 MB 770.6 kB/s eta 0:00:07\n",
      "   ----------------------- ---------------- 6.8/11.5 MB 770.0 kB/s eta 0:00:07\n",
      "   ----------------------- ---------------- 6.9/11.5 MB 770.7 kB/s eta 0:00:07\n",
      "   ------------------------ --------------- 6.9/11.5 MB 771.0 kB/s eta 0:00:06\n",
      "   ------------------------ --------------- 6.9/11.5 MB 770.4 kB/s eta 0:00:06\n",
      "   ------------------------ --------------- 7.0/11.5 MB 772.1 kB/s eta 0:00:06\n",
      "   ------------------------ --------------- 7.0/11.5 MB 771.5 kB/s eta 0:00:06\n",
      "   ------------------------ --------------- 7.0/11.5 MB 771.1 kB/s eta 0:00:06\n",
      "   ------------------------ --------------- 7.1/11.5 MB 770.5 kB/s eta 0:00:06\n",
      "   ------------------------ --------------- 7.1/11.5 MB 769.9 kB/s eta 0:00:06\n",
      "   ------------------------ --------------- 7.1/11.5 MB 771.6 kB/s eta 0:00:06\n",
      "   ------------------------- -------------- 7.2/11.5 MB 771.0 kB/s eta 0:00:06\n",
      "   ------------------------- -------------- 7.2/11.5 MB 771.3 kB/s eta 0:00:06\n",
      "   ------------------------- -------------- 7.3/11.5 MB 770.7 kB/s eta 0:00:06\n",
      "   ------------------------- -------------- 7.3/11.5 MB 769.2 kB/s eta 0:00:06\n",
      "   ------------------------- -------------- 7.3/11.5 MB 769.8 kB/s eta 0:00:06\n",
      "   ------------------------- -------------- 7.4/11.5 MB 769.0 kB/s eta 0:00:06\n",
      "   ------------------------- -------------- 7.4/11.5 MB 769.9 kB/s eta 0:00:06\n",
      "   ------------------------- -------------- 7.4/11.5 MB 770.3 kB/s eta 0:00:06\n",
      "   ------------------------- -------------- 7.5/11.5 MB 769.7 kB/s eta 0:00:06\n",
      "   -------------------------- ------------- 7.5/11.5 MB 771.2 kB/s eta 0:00:06\n",
      "   -------------------------- ------------- 7.6/11.5 MB 771.5 kB/s eta 0:00:06\n",
      "   -------------------------- ------------- 7.6/11.5 MB 772.0 kB/s eta 0:00:06\n",
      "   -------------------------- ------------- 7.6/11.5 MB 773.6 kB/s eta 0:00:05\n",
      "   -------------------------- ------------- 7.7/11.5 MB 776.2 kB/s eta 0:00:05\n",
      "   --------------------------- ------------ 7.8/11.5 MB 777.7 kB/s eta 0:00:05\n",
      "   --------------------------- ------------ 7.8/11.5 MB 780.3 kB/s eta 0:00:05\n",
      "   --------------------------- ------------ 7.9/11.5 MB 781.7 kB/s eta 0:00:05\n",
      "   --------------------------- ------------ 7.9/11.5 MB 783.2 kB/s eta 0:00:05\n",
      "   --------------------------- ------------ 7.9/11.5 MB 783.8 kB/s eta 0:00:05\n",
      "   --------------------------- ------------ 8.0/11.5 MB 784.0 kB/s eta 0:00:05\n",
      "   --------------------------- ------------ 8.0/11.5 MB 783.4 kB/s eta 0:00:05\n",
      "   ---------------------------- ----------- 8.1/11.5 MB 781.6 kB/s eta 0:00:05\n",
      "   ---------------------------- ----------- 8.1/11.5 MB 780.1 kB/s eta 0:00:05\n",
      "   ---------------------------- ----------- 8.1/11.5 MB 780.7 kB/s eta 0:00:05\n",
      "   ---------------------------- ----------- 8.1/11.5 MB 780.5 kB/s eta 0:00:05\n",
      "   ---------------------------- ----------- 8.2/11.5 MB 779.7 kB/s eta 0:00:05\n",
      "   ---------------------------- ----------- 8.2/11.5 MB 778.0 kB/s eta 0:00:05\n",
      "   ---------------------------- ----------- 8.2/11.5 MB 777.5 kB/s eta 0:00:05\n",
      "   ---------------------------- ----------- 8.3/11.5 MB 776.9 kB/s eta 0:00:05\n",
      "   ---------------------------- ----------- 8.3/11.5 MB 776.4 kB/s eta 0:00:05\n",
      "   ----------------------------- ---------- 8.3/11.5 MB 777.8 kB/s eta 0:00:05\n",
      "   ----------------------------- ---------- 8.4/11.5 MB 778.4 kB/s eta 0:00:04\n",
      "   ----------------------------- ---------- 8.4/11.5 MB 778.6 kB/s eta 0:00:04\n",
      "   ----------------------------- ---------- 8.5/11.5 MB 780.0 kB/s eta 0:00:04\n",
      "   ----------------------------- ---------- 8.5/11.5 MB 781.3 kB/s eta 0:00:04\n",
      "   ----------------------------- ---------- 8.5/11.5 MB 781.1 kB/s eta 0:00:04\n",
      "   ----------------------------- ---------- 8.6/11.5 MB 783.2 kB/s eta 0:00:04\n",
      "   ------------------------------ --------- 8.7/11.5 MB 783.4 kB/s eta 0:00:04\n",
      "   ------------------------------ --------- 8.7/11.5 MB 784.0 kB/s eta 0:00:04\n",
      "   ------------------------------ --------- 8.7/11.5 MB 785.3 kB/s eta 0:00:04\n",
      "   ------------------------------ --------- 8.8/11.5 MB 784.6 kB/s eta 0:00:04\n",
      "   ------------------------------ --------- 8.8/11.5 MB 786.8 kB/s eta 0:00:04\n",
      "   ------------------------------ --------- 8.9/11.5 MB 788.0 kB/s eta 0:00:04\n",
      "   ------------------------------- -------- 8.9/11.5 MB 790.4 kB/s eta 0:00:04\n",
      "   ------------------------------- -------- 9.0/11.5 MB 790.5 kB/s eta 0:00:04\n",
      "   ------------------------------- -------- 9.0/11.5 MB 792.2 kB/s eta 0:00:04\n",
      "   ------------------------------- -------- 9.1/11.5 MB 792.3 kB/s eta 0:00:04\n",
      "   ------------------------------- -------- 9.1/11.5 MB 792.6 kB/s eta 0:00:03\n",
      "   ------------------------------- -------- 9.2/11.5 MB 793.8 kB/s eta 0:00:03\n",
      "   -------------------------------- ------- 9.2/11.5 MB 794.4 kB/s eta 0:00:03\n",
      "   -------------------------------- ------- 9.2/11.5 MB 794.5 kB/s eta 0:00:03\n",
      "   -------------------------------- ------- 9.3/11.5 MB 795.0 kB/s eta 0:00:03\n",
      "   -------------------------------- ------- 9.3/11.5 MB 795.2 kB/s eta 0:00:03\n",
      "   -------------------------------- ------- 9.4/11.5 MB 794.6 kB/s eta 0:00:03\n",
      "   -------------------------------- ------- 9.4/11.5 MB 795.8 kB/s eta 0:00:03\n",
      "   -------------------------------- ------- 9.5/11.5 MB 796.1 kB/s eta 0:00:03\n",
      "   --------------------------------- ------ 9.5/11.5 MB 797.2 kB/s eta 0:00:03\n",
      "   --------------------------------- ------ 9.5/11.5 MB 797.9 kB/s eta 0:00:03\n",
      "   --------------------------------- ------ 9.6/11.5 MB 798.0 kB/s eta 0:00:03\n",
      "   --------------------------------- ------ 9.6/11.5 MB 797.4 kB/s eta 0:00:03\n",
      "   --------------------------------- ------ 9.6/11.5 MB 795.9 kB/s eta 0:00:03\n",
      "   --------------------------------- ------ 9.7/11.5 MB 795.3 kB/s eta 0:00:03\n",
      "   --------------------------------- ------ 9.7/11.5 MB 795.0 kB/s eta 0:00:03\n",
      "   --------------------------------- ------ 9.7/11.5 MB 793.4 kB/s eta 0:00:03\n",
      "   --------------------------------- ------ 9.7/11.5 MB 793.9 kB/s eta 0:00:03\n",
      "   ---------------------------------- ----- 9.8/11.5 MB 793.6 kB/s eta 0:00:03\n",
      "   ---------------------------------- ----- 9.8/11.5 MB 792.7 kB/s eta 0:00:03\n",
      "   ---------------------------------- ----- 9.8/11.5 MB 792.5 kB/s eta 0:00:03\n",
      "   ---------------------------------- ----- 9.9/11.5 MB 791.0 kB/s eta 0:00:03\n",
      "   ---------------------------------- ----- 9.9/11.5 MB 789.7 kB/s eta 0:00:03\n",
      "   ---------------------------------- ----- 9.9/11.5 MB 787.4 kB/s eta 0:00:03\n",
      "   ---------------------------------- ----- 9.9/11.5 MB 787.2 kB/s eta 0:00:02\n",
      "   ---------------------------------- ----- 9.9/11.5 MB 785.9 kB/s eta 0:00:02\n",
      "   ---------------------------------- ----- 9.9/11.5 MB 781.9 kB/s eta 0:00:02\n",
      "   ---------------------------------- ----- 10.0/11.5 MB 780.6 kB/s eta 0:00:02\n",
      "   ---------------------------------- ----- 10.0/11.5 MB 779.4 kB/s eta 0:00:02\n",
      "   ---------------------------------- ----- 10.0/11.5 MB 779.4 kB/s eta 0:00:02\n",
      "   ---------------------------------- ----- 10.0/11.5 MB 775.5 kB/s eta 0:00:02\n",
      "   ---------------------------------- ----- 10.0/11.5 MB 775.5 kB/s eta 0:00:02\n",
      "   ---------------------------------- ----- 10.0/11.5 MB 773.3 kB/s eta 0:00:02\n",
      "   ---------------------------------- ----- 10.0/11.5 MB 770.4 kB/s eta 0:00:02\n",
      "   ----------------------------------- ---- 10.1/11.5 MB 768.8 kB/s eta 0:00:02\n",
      "   ----------------------------------- ---- 10.1/11.5 MB 766.9 kB/s eta 0:00:02\n",
      "   ----------------------------------- ---- 10.1/11.5 MB 766.6 kB/s eta 0:00:02\n",
      "   ----------------------------------- ---- 10.1/11.5 MB 765.6 kB/s eta 0:00:02\n",
      "   ----------------------------------- ---- 10.1/11.5 MB 765.1 kB/s eta 0:00:02\n",
      "   ----------------------------------- ---- 10.2/11.5 MB 763.2 kB/s eta 0:00:02\n",
      "   ----------------------------------- ---- 10.2/11.5 MB 762.9 kB/s eta 0:00:02\n",
      "   ----------------------------------- ---- 10.2/11.5 MB 761.6 kB/s eta 0:00:02\n",
      "   ----------------------------------- ---- 10.2/11.5 MB 760.5 kB/s eta 0:00:02\n",
      "   ----------------------------------- ---- 10.3/11.5 MB 759.5 kB/s eta 0:00:02\n",
      "   ----------------------------------- ---- 10.3/11.5 MB 756.9 kB/s eta 0:00:02\n",
      "   ----------------------------------- ---- 10.3/11.5 MB 755.1 kB/s eta 0:00:02\n",
      "   ------------------------------------ --- 10.4/11.5 MB 754.3 kB/s eta 0:00:02\n",
      "   ------------------------------------ --- 10.4/11.5 MB 751.7 kB/s eta 0:00:02\n",
      "   ------------------------------------ --- 10.4/11.5 MB 748.2 kB/s eta 0:00:02\n",
      "   ------------------------------------ --- 10.5/11.5 MB 746.5 kB/s eta 0:00:02\n",
      "   ------------------------------------ --- 10.5/11.5 MB 743.1 kB/s eta 0:00:02\n",
      "   ------------------------------------ --- 10.6/11.5 MB 742.3 kB/s eta 0:00:02\n",
      "   ------------------------------------ --- 10.6/11.5 MB 741.4 kB/s eta 0:00:02\n",
      "   ------------------------------------- -- 10.6/11.5 MB 737.3 kB/s eta 0:00:02\n",
      "   ------------------------------------- -- 10.7/11.5 MB 736.5 kB/s eta 0:00:02\n",
      "   ------------------------------------- -- 10.7/11.5 MB 735.6 kB/s eta 0:00:02\n",
      "   ------------------------------------- -- 10.8/11.5 MB 733.2 kB/s eta 0:00:01\n",
      "   ------------------------------------- -- 10.8/11.5 MB 731.5 kB/s eta 0:00:01\n",
      "   ------------------------------------- -- 10.8/11.5 MB 729.9 kB/s eta 0:00:01\n",
      "   ------------------------------------- -- 10.9/11.5 MB 728.3 kB/s eta 0:00:01\n",
      "   ------------------------------------- -- 10.9/11.5 MB 725.8 kB/s eta 0:00:01\n",
      "   -------------------------------------- - 10.9/11.5 MB 725.0 kB/s eta 0:00:01\n",
      "   -------------------------------------- - 11.0/11.5 MB 723.5 kB/s eta 0:00:01\n",
      "   -------------------------------------- - 11.0/11.5 MB 722.6 kB/s eta 0:00:01\n",
      "   -------------------------------------- - 11.0/11.5 MB 721.8 kB/s eta 0:00:01\n",
      "   -------------------------------------- - 11.1/11.5 MB 720.3 kB/s eta 0:00:01\n",
      "   -------------------------------------- - 11.1/11.5 MB 718.7 kB/s eta 0:00:01\n",
      "   -------------------------------------- - 11.1/11.5 MB 718.7 kB/s eta 0:00:01\n",
      "   -------------------------------------- - 11.2/11.5 MB 716.3 kB/s eta 0:00:01\n",
      "   ---------------------------------------  11.2/11.5 MB 715.5 kB/s eta 0:00:01\n",
      "   ---------------------------------------  11.3/11.5 MB 716.3 kB/s eta 0:00:01\n",
      "   ---------------------------------------  11.3/11.5 MB 714.8 kB/s eta 0:00:01\n",
      "   ---------------------------------------  11.3/11.5 MB 715.5 kB/s eta 0:00:01\n",
      "   ---------------------------------------  11.4/11.5 MB 717.9 kB/s eta 0:00:01\n",
      "   ---------------------------------------  11.4/11.5 MB 719.4 kB/s eta 0:00:01\n",
      "   ---------------------------------------- 11.5/11.5 MB 720.2 kB/s eta 0:00:00\n",
      "Downloading pytz-2024.1-py2.py3-none-any.whl (505 kB)\n",
      "   ---------------------------------------- 0.0/505.5 kB ? eta -:--:--\n",
      "   --- ----------------------------------- 41.0/505.5 kB 991.0 kB/s eta 0:00:01\n",
      "   -------- ------------------------------- 112.6/505.5 kB 1.3 MB/s eta 0:00:01\n",
      "   ------------ --------------------------- 153.6/505.5 kB 1.1 MB/s eta 0:00:01\n",
      "   --------------- ------------------------ 194.6/505.5 kB 1.3 MB/s eta 0:00:01\n",
      "   --------------------- ------------------ 276.5/505.5 kB 1.2 MB/s eta 0:00:01\n",
      "   ------------------------- -------------- 317.4/505.5 kB 1.2 MB/s eta 0:00:01\n",
      "   ---------------------------- ----------- 358.4/505.5 kB 1.2 MB/s eta 0:00:01\n",
      "   ------------------------------- -------- 399.4/505.5 kB 1.1 MB/s eta 0:00:01\n",
      "   ----------------------------------- ---- 450.6/505.5 kB 1.1 MB/s eta 0:00:01\n",
      "   -------------------------------------- - 481.3/505.5 kB 1.1 MB/s eta 0:00:01\n",
      "   -------------------------------------- - 481.3/505.5 kB 1.1 MB/s eta 0:00:01\n",
      "   -------------------------------------- 505.5/505.5 kB 959.8 kB/s eta 0:00:00\n",
      "Downloading tzdata-2024.1-py2.py3-none-any.whl (345 kB)\n",
      "   ---------------------------------------- 0.0/345.4 kB ? eta -:--:--\n",
      "   --- ------------------------------------ 30.7/345.4 kB ? eta -:--:--\n",
      "   ---- ----------------------------------- 41.0/345.4 kB 2.0 MB/s eta 0:00:01\n",
      "   ------- -------------------------------- 61.4/345.4 kB 1.1 MB/s eta 0:00:01\n",
      "   -------- ------------------------------ 71.7/345.4 kB 653.6 kB/s eta 0:00:01\n",
      "   ---------- ---------------------------- 92.2/345.4 kB 525.1 kB/s eta 0:00:01\n",
      "   ------------ ------------------------- 112.6/345.4 kB 467.6 kB/s eta 0:00:01\n",
      "   ------------ ------------------------- 112.6/345.4 kB 467.6 kB/s eta 0:00:01\n",
      "   ------------- ------------------------ 122.9/345.4 kB 400.9 kB/s eta 0:00:01\n",
      "   --------------- ---------------------- 143.4/345.4 kB 387.0 kB/s eta 0:00:01\n",
      "   ---------------- --------------------- 153.6/345.4 kB 367.6 kB/s eta 0:00:01\n",
      "   --------------------- ---------------- 194.6/345.4 kB 406.9 kB/s eta 0:00:01\n",
      "   --------------------- ---------------- 194.6/345.4 kB 406.9 kB/s eta 0:00:01\n",
      "   ------------------------ ------------- 225.3/345.4 kB 405.0 kB/s eta 0:00:01\n",
      "   ------------------------- ------------ 235.5/345.4 kB 389.8 kB/s eta 0:00:01\n",
      "   ------------------------------ ------- 276.5/345.4 kB 416.0 kB/s eta 0:00:01\n",
      "   ------------------------------- ------ 286.7/345.4 kB 411.4 kB/s eta 0:00:01\n",
      "   ---------------------------------- --- 317.4/345.4 kB 418.5 kB/s eta 0:00:01\n",
      "   -------------------------------------  337.9/345.4 kB 428.3 kB/s eta 0:00:01\n",
      "   -------------------------------------  337.9/345.4 kB 428.3 kB/s eta 0:00:01\n",
      "   -------------------------------------  337.9/345.4 kB 428.3 kB/s eta 0:00:01\n",
      "   -------------------------------------  337.9/345.4 kB 428.3 kB/s eta 0:00:01\n",
      "   -------------------------------------  337.9/345.4 kB 428.3 kB/s eta 0:00:01\n",
      "   -------------------------------------- 345.4/345.4 kB 340.6 kB/s eta 0:00:00\n",
      "Installing collected packages: pytz, tzdata, pandas\n",
      "Successfully installed pandas-2.2.1 pytz-2024.1 tzdata-2024.1\n"
     ]
    }
   ],
   "source": [
    "pip install pandas"
   ]
  },
  {
   "cell_type": "code",
   "execution_count": 113,
   "metadata": {},
   "outputs": [
    {
     "name": "stdout",
     "output_type": "stream",
     "text": [
      "Defaulting to user installation because normal site-packages is not writeable\n",
      "Requirement already satisfied: matplotlib in c:\\users\\itwork\\appdata\\local\\packages\\pythonsoftwarefoundation.python.3.12_qbz5n2kfra8p0\\localcache\\local-packages\\python312\\site-packages (3.8.3)\n",
      "Requirement already satisfied: contourpy>=1.0.1 in c:\\users\\itwork\\appdata\\local\\packages\\pythonsoftwarefoundation.python.3.12_qbz5n2kfra8p0\\localcache\\local-packages\\python312\\site-packages (from matplotlib) (1.2.0)\n",
      "Requirement already satisfied: cycler>=0.10 in c:\\users\\itwork\\appdata\\local\\packages\\pythonsoftwarefoundation.python.3.12_qbz5n2kfra8p0\\localcache\\local-packages\\python312\\site-packages (from matplotlib) (0.12.1)\n",
      "Requirement already satisfied: fonttools>=4.22.0 in c:\\users\\itwork\\appdata\\local\\packages\\pythonsoftwarefoundation.python.3.12_qbz5n2kfra8p0\\localcache\\local-packages\\python312\\site-packages (from matplotlib) (4.50.0)\n",
      "Requirement already satisfied: kiwisolver>=1.3.1 in c:\\users\\itwork\\appdata\\local\\packages\\pythonsoftwarefoundation.python.3.12_qbz5n2kfra8p0\\localcache\\local-packages\\python312\\site-packages (from matplotlib) (1.4.5)\n",
      "Requirement already satisfied: numpy<2,>=1.21 in c:\\users\\itwork\\appdata\\local\\packages\\pythonsoftwarefoundation.python.3.12_qbz5n2kfra8p0\\localcache\\local-packages\\python312\\site-packages (from matplotlib) (1.26.4)\n",
      "Requirement already satisfied: packaging>=20.0 in c:\\users\\itwork\\appdata\\local\\packages\\pythonsoftwarefoundation.python.3.12_qbz5n2kfra8p0\\localcache\\local-packages\\python312\\site-packages (from matplotlib) (24.0)\n",
      "Requirement already satisfied: pillow>=8 in c:\\users\\itwork\\appdata\\local\\packages\\pythonsoftwarefoundation.python.3.12_qbz5n2kfra8p0\\localcache\\local-packages\\python312\\site-packages (from matplotlib) (10.2.0)\n",
      "Requirement already satisfied: pyparsing>=2.3.1 in c:\\users\\itwork\\appdata\\local\\packages\\pythonsoftwarefoundation.python.3.12_qbz5n2kfra8p0\\localcache\\local-packages\\python312\\site-packages (from matplotlib) (3.1.2)\n",
      "Requirement already satisfied: python-dateutil>=2.7 in c:\\users\\itwork\\appdata\\local\\packages\\pythonsoftwarefoundation.python.3.12_qbz5n2kfra8p0\\localcache\\local-packages\\python312\\site-packages (from matplotlib) (2.9.0.post0)\n",
      "Requirement already satisfied: six>=1.5 in c:\\users\\itwork\\appdata\\local\\packages\\pythonsoftwarefoundation.python.3.12_qbz5n2kfra8p0\\localcache\\local-packages\\python312\\site-packages (from python-dateutil>=2.7->matplotlib) (1.16.0)\n",
      "Note: you may need to restart the kernel to use updated packages.\n"
     ]
    }
   ],
   "source": [
    "pip install matplotlib"
   ]
  },
  {
   "cell_type": "code",
   "execution_count": 114,
   "metadata": {},
   "outputs": [],
   "source": [
    "import matplotlib.pyplot as plt"
   ]
  },
  {
   "cell_type": "code",
   "execution_count": 26,
   "metadata": {},
   "outputs": [
    {
     "name": "stdout",
     "output_type": "stream",
     "text": [
      "Vidurkis 7.714285714285714\n",
      "Didysis pazymys 4\n",
      "Maziausias pazymys 10\n",
      "Bendras vidurkis 7.333333333333333\n",
      "7.0476190476190474 : visu mokiniu vidurkis\n"
     ]
    }
   ],
   "source": [
    "# Sukurkite Mokinys klasę, kuri turės mokinio vardą, pavardę ir sąrašą pažymių. Įtraukite metodus,\n",
    "# kurie skaičiuotų vidurkį, didžiausią ir mažiausią pažymį.\n",
    "\n",
    "# Sukurkite Abiturientas klasę, kuri paveldi Mokinys klasę ir prideda papildomą funkcionalumą, pvz.,\n",
    "# gebėjimą pridėti egzamino rezultatus ir skaičiuoti bendrą vidurkį, įskaitant ir egzamino rezultatus.\n",
    "\n",
    "# Sukurkite Mokykla klasę, kuri turės sąrašą Mokinys objektų. Įtraukite metodus, kurie leistų pridėti\n",
    "# naują mokinį, pašalinti mokinį, bei skaičiuoti visos mokyklos mokinių pažymių vidurkius.\n",
    "\n",
    "# Atnaujinkite Mokinys klasę taip, kad pažymių sąrašas būtų privatus. Sukurkite metodus, kurie\n",
    "# leistų saugiai pridėti ir gauti pažymius, užtikrinant, kad negalima būtų pridėti netinkamų pažymių\n",
    "# (pvz., neigiamų ar didesnių nei 10).\n",
    "\n",
    "# Klasės turi būti aprašytos jūsų kuriamame modulyje.\n",
    "# Klases tikrinimui importuokite taip, kad \n",
    "# NEREIKĖTŲ modulio pavadinimo prieš klasę naudoti.\n",
    "\n",
    "class Mokinys():\n",
    "    def __init__(self, vardas , pavarde , pazymiai):\n",
    "        self.vardas = vardas\n",
    "        self.pavarde = pavarde\n",
    "        self.pazymiai = pazymiai\n",
    "\n",
    "    def vidurkisf(self):\n",
    "        vidurkis = sum(self.pazymiai) / len(self.pazymiai)\n",
    "        return vidurkis\n",
    "    \n",
    "    def didziausiaspazymysf(self):\n",
    "        dickis = min(self.pazymiai)\n",
    "        return dickis\n",
    "    \n",
    "    def maizausiaspazymysf(self):\n",
    "        mazius = max(self.pazymiai)\n",
    "        return mazius    \n",
    "    \n",
    "class Abiturientas(Mokinys):\n",
    "    def __init__(self, vardas , pavarde , pazymiai , egzaminas):\n",
    "        super().__init__(vardas , pavarde , pazymiai)\n",
    "        self.egzaminas = egzaminas\n",
    "\n",
    "    def vidurkissuegzaminuf(self):\n",
    "        pazymiaisuegazimu = self.pazymiai + self.egzaminas\n",
    "        # self.pazymiaisuegzaminu = pazymiaisuegazimu\n",
    "        vidurkissuegzaminu = sum(pazymiaisuegazimu) / len(pazymiaisuegazimu)\n",
    "        return vidurkissuegzaminu\n",
    "\n",
    "class Mokykla():\n",
    "    def __init__(self):\n",
    "        self.Mokiniai = []\n",
    "\n",
    "    def addmokinys(self, mokinys):\n",
    "        self.Mokiniai.append(mokinys)\n",
    "    \n",
    "    def removeMokinys(self, mokinys):\n",
    "        self.Mokiniai.remove(mokinys)\n",
    "\n",
    "    def VisumokiniuVidurkis(self):\n",
    "        VisumokiniuPazymiai = []\n",
    "        for mokinys in self.Mokiniai:\n",
    "            VisumokiniuPazymiai.extend(mokinys.pazymiai)\n",
    "        VisumokiniuVidurkis = sum(VisumokiniuPazymiai) / len(VisumokiniuPazymiai)\n",
    "        return VisumokiniuVidurkis\n",
    "    \n",
    "mokinys = Mokinys(\"Mantvydas\" , \"Vorobjovas\" , [7,8,9,10,7,4,9])\n",
    "mokinys2 = Mokinys(\"Vardenis2\" , \"Pavardenis2\" , [7,8,9,10,7,4,9])\n",
    "mokinys3 = Mokinys(\"Vardenis3\" , \"Pavardenis3\" , [7,2,5,10,7,4,5])\n",
    "\n",
    "abiturientas = Abiturientas(\"Mantvydas\" , \"Vorobjovas\" , [7,8,9,5],[6,9])\n",
    "\n",
    "    \n",
    "print(\"Vidurkis\", mokinys.vidurkisf())\n",
    "print(\"Didysis pazymys\", mokinys.didziausiaspazymysf())\n",
    "print(\"Maziausias pazymys\", mokinys.maizausiaspazymysf())\n",
    "print(\"Bendras vidurkis\", abiturientas.vidurkissuegzaminuf())\n",
    "\n",
    "mokykla = Mokykla()\n",
    "mokykla.addmokinys(mokinys)\n",
    "mokykla.addmokinys(mokinys2)\n",
    "mokykla.addmokinys(mokinys3)\n",
    "\n",
    "\n",
    "print(mokykla.VisumokiniuVidurkis() , \": visu mokiniu vidurkis\")\n",
    "\n",
    "# extend alternatyva\n",
    "# VisuMokiniuPazymiai = VisuMokiniuPazymiai + mokinys.pazymiai\n"
   ]
  },
  {
   "cell_type": "code",
   "execution_count": 35,
   "metadata": {},
   "outputs": [],
   "source": [
    "# Atnaujinkite Mokinys klasę taip, kad pažymių sąrašas būtų privatus. Sukurkite metodus, kurie\n",
    "# leistų saugiai pridėti ir gauti pažymius, užtikrinant, kad negalima būtų pridėti netinkamų pažymių\n",
    "# (pvz., neigiamų ar didesnių nei 10).\n",
    "\n",
    "# Klasės turi būti aprašytos jūsų kuriamame modulyje.\n",
    "# Klases tikrinimui importuokite taip, kad \n",
    "# NEREIKĖTŲ modulio pavadinimo prieš klasę naudoti.\n",
    "\n",
    "\n",
    "\n",
    "class Mokinys:\n",
    "    def __init__(self, vardas, pavarde):\n",
    "        self.vardas = vardas\n",
    "        self.pavarde = pavarde\n",
    "        self.__pazymiai = []\n",
    "\n",
    "    def pridetipazymi(self, pazymys):\n",
    "        if 0 <= pazymys <= 10:\n",
    "            self.__pazymiai.append(pazymys)\n",
    "        else:\n",
    "            print(\"Skaicius turi būti intervale nuo 0 iki 10\")\n",
    "\n",
    "    def gautipazymius(self):\n",
    "        return self.__pazymiai\n",
    "\n",
    "    def vidurkis(self):\n",
    "        if self.__pazymiai:\n",
    "            return sum(self.__pazymiai) / len(self.__pazymiai)\n",
    "\n",
    "\n",
    "    def didziausiaspazymys(self):\n",
    "        if self.__pazymiai:\n",
    "            return max(self.__pazymiai)\n",
    "\n",
    "\n",
    "    def maziausiaspazymys(self):\n",
    "        if self.__pazymiai:\n",
    "            return min(self.__pazymiai)\n",
    "\n"
   ]
  },
  {
   "cell_type": "code",
   "execution_count": 34,
   "metadata": {},
   "outputs": [],
   "source": [
    "#Remigijus uzjudejo: \n",
    "\n",
    "class Mokinys():\n",
    "    def __init__(self, vardas, pavarde):\n",
    "        self.V = vardas\n",
    "        self.P = pavarde\n",
    "        self.pazymiai = []\n",
    "\n",
    "    def getVidurkis(self):\n",
    "        vidurkis = sum(self.pazymiai)/len(self.pazymiai)\n",
    "        return vidurkis\n",
    "    \n",
    "    def getMax(self):\n",
    "        pazymysMax = max(self.pazymiai)\n",
    "        return pazymysMax\n",
    "    def getMin(self):\n",
    "        pazymysMin = min(self.pazymiai)\n",
    "        return pazymysMin\n",
    "mokinys1 = Mokinys(\"Vardenis\", \"Pavardenis\")\n",
    "mokinys1.pazymiai = [4, 7, 10, 7, 6]\n",
    "print(\"Vardas:\", mokinys1.V)\n",
    "print(\"Pavardė:\", mokinys1.P)\n",
    "print(\"Vidurkis:\", mokinys1.getVidurkis())\n",
    "print(\"Didžiausias pažymys:\", mokinys1.getMax())\n",
    "print(\"Mažiausias pažymys:\", mokinys1.getMin())\n",
    "mokinys2 = Mokinys(\"Vardenis2\", \"Pavardenis2\")\n",
    "mokinys2.pazymiai = [1, 7, 5, 7, 6]\n",
    "print(\"Vardas:\", mokinys2.V)\n",
    "print(\"Pavardė:\", mokinys2.P)\n",
    "print(\"Vidurkis:\", mokinys2.getVidurkis())\n",
    "print(\"Didžiausias pažymys:\", mokinys2.getMax())\n",
    "print(\"Mažiausias pažymys:\", mokinys2.getMin())\n",
    "\n",
    "class Mokykla():\n",
    "    def __init__(self):\n",
    "        self.Mokiniai = []\n",
    "    def addMokinys(self, mokinys):\n",
    "        self.Mokiniai.append(mokinys)\n",
    "    def removeMokinys(self, mokinys):\n",
    "        self.Mokiniai.remove(mokinys)\n",
    "    def VisuMokiniuVidurkis(self):\n",
    "        VisuMokiniuPazymiai = []\n",
    "        for mokinys in self.Mokiniai:\n",
    "            VisuMokiniuPazymiai.extend(mokinys.pazymiai) # extend leidzia sujungti skirtingus sarasus, prisplecia sarasas, esantis pries extend metoda\n",
    "        VisuMokiniuVidurkis = sum(VisuMokiniuPazymiai)/len(VisuMokiniuPazymiai)\n",
    "        return VisuMokiniuVidurkis\n",
    "mokykla = Mokykla()\n",
    "mokinys3 = Mokinys('Vardenis3', 'Pavardenis3')\n",
    "mokykla.addMokinys(mokinys1)\n",
    "mokykla.addMokinys(mokinys2)\n",
    "mokykla.addMokinys(mokinys3)\n",
    "print(mokykla.VisuMokiniuVidurkis())\n",
    "# extend alternatyva\n",
    "# VisuMokiniuPazymiai = VisuMokiniuPazymiai + mokinys.pazymiai\n"
   ]
  },
  {
   "cell_type": "code",
   "execution_count": 30,
   "metadata": {},
   "outputs": [
    {
     "name": "stdout",
     "output_type": "stream",
     "text": [
      "Tomas Tomaitis [10, 8]\n",
      "Vidurkis 9.0\n",
      "Max pažymys 10\n",
      "Min pažymys 8\n"
     ]
    }
   ],
   "source": [
    "#Edita uzjudejo: \n",
    "\n",
    "# Atnaujinkite Mokinys klasę taip, kad pažymių sąrašas būtų privatus. Sukurkite metodus, kurie\n",
    "# leistų saugiai pridėti ir gauti pažymius, užtikrinant, kad negalima būtų pridėti netinkamų pažymių\n",
    "# (pvz., neigiamų ar didesnių nei 10).\n",
    "\n",
    "# Klasės turi būti aprašytos jūsų kuriamame modulyje.\n",
    "# Klases tikrinimui importuokite taip, kad \n",
    "# NEREIKĖTŲ modulio pavadinimo prieš klasę naudoti.\n",
    "\n",
    "\n",
    "\n",
    "class Mokinys():\n",
    "    def __init__ (self, vardas, pavardė, pažymiai):\n",
    "        self.vardas = vardas\n",
    "        self.pavardė = pavardė\n",
    "        self.__pažymiai = []\n",
    "\n",
    "    def addPaz(self, pažymys):\n",
    "        if pažymys>0 and pažymys<=10:\n",
    "            self.__pažymiai.append(pažymys)\n",
    "    def getPažymiai(self):\n",
    "        return self.__pažymiai\n",
    "\n",
    "    def getVidurkis(self):\n",
    "        vidurkis = sum(self.__pažymiai)/len(self.__pažymiai)            \n",
    "        return vidurkis\n",
    "    \n",
    "    def getMinPaz(self):\n",
    "        minpaz= min(self.__pažymiai)\n",
    "        return minpaz\n",
    "    \n",
    "    def getMaxPaz(self):\n",
    "        maxpaz= max(self.__pažymiai)\n",
    "        return maxpaz\n",
    "Mokinys1 = Mokinys('Tomas', 'Tomaitis', 1)\n",
    "Mokinys1.addPaz(-5)\n",
    "Mokinys1.addPaz(10)\n",
    "Mokinys1.addPaz(8)\n",
    "print(Mokinys1.vardas, Mokinys1.pavardė, Mokinys1.getPažymiai())        \n",
    "print('Vidurkis', Mokinys1.getVidurkis())\n",
    "print('Max pažymys', Mokinys1.getMaxPaz())\n",
    "print('Min pažymys', Mokinys1.getMinPaz())\n",
    "\n",
    "class Mokykla():\n",
    "    def __init__(self):\n",
    "        self.mokiniai = []\n",
    "        \n",
    "    def addMokinys(self, mokinys):\n",
    "        self.mokiniai.append(mokinys)\n",
    "\n",
    "    def remMokinys(self, mokinys):\n",
    "        self.mokiniai.remove(mokinys)\n",
    "        \n",
    "    def visasVidurkis(self):\n",
    "        visi_pažymiai = []\n",
    "        for mokinys in Mokinys:\n",
    "            visi_pažymiai.append(mokinys.pažymiai)\n",
    "        visasVidurkis = sum(visi_pažymiai)/len(visi_pažymiai)\n",
    "        return visasVidurkis\n"
   ]
  },
  {
   "cell_type": "code",
   "execution_count": 40,
   "metadata": {},
   "outputs": [
    {
     "ename": "ImportError",
     "evalue": "cannot import name 'Mokinys' from 'modulis' (c:\\Users\\ITWORK\\Desktop\\Python\\JupyterNotebooks\\modulis.py)",
     "output_type": "error",
     "traceback": [
      "\u001b[1;31m---------------------------------------------------------------------------\u001b[0m",
      "\u001b[1;31mImportError\u001b[0m                               Traceback (most recent call last)",
      "Cell \u001b[1;32mIn[40], line 1\u001b[0m\n\u001b[1;32m----> 1\u001b[0m \u001b[38;5;28;01mfrom\u001b[39;00m \u001b[38;5;21;01mmodulis\u001b[39;00m \u001b[38;5;28;01mimport\u001b[39;00m Mokinys, Abiturientas, Mokykla\n",
      "\u001b[1;31mImportError\u001b[0m: cannot import name 'Mokinys' from 'modulis' (c:\\Users\\ITWORK\\Desktop\\Python\\JupyterNotebooks\\modulis.py)"
     ]
    }
   ],
   "source": [
    "from modulis import Mokinys, Abiturientas, Mokykla"
   ]
  }
 ],
 "metadata": {
  "kernelspec": {
   "display_name": "Python 3",
   "language": "python",
   "name": "python3"
  },
  "language_info": {
   "codemirror_mode": {
    "name": "ipython",
    "version": 3
   },
   "file_extension": ".py",
   "mimetype": "text/x-python",
   "name": "python",
   "nbconvert_exporter": "python",
   "pygments_lexer": "ipython3",
   "version": "3.12.2"
  }
 },
 "nbformat": 4,
 "nbformat_minor": 2
}
